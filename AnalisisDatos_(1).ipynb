{
  "nbformat": 4,
  "nbformat_minor": 0,
  "metadata": {
    "colab": {
      "name": "AnalisisDatos (1).ipynb",
      "provenance": [],
      "collapsed_sections": [],
      "include_colab_link": true
    },
    "kernelspec": {
      "name": "python3",
      "display_name": "Python 3"
    },
    "language_info": {
      "name": "python"
    },
    "widgets": {
      "application/vnd.jupyter.widget-state+json": {
        "d52e57c868c4442396688c40f6ce1ccf": {
          "model_module": "@jupyter-widgets/controls",
          "model_name": "HBoxModel",
          "model_module_version": "1.5.0",
          "state": {
            "_dom_classes": [],
            "_model_module": "@jupyter-widgets/controls",
            "_model_module_version": "1.5.0",
            "_model_name": "HBoxModel",
            "_view_count": null,
            "_view_module": "@jupyter-widgets/controls",
            "_view_module_version": "1.5.0",
            "_view_name": "HBoxView",
            "box_style": "",
            "children": [
              "IPY_MODEL_5bfd0d5c71ab4700b5a7c828887ecd40",
              "IPY_MODEL_3b107bc3aa8741789079932a5a3ea66b",
              "IPY_MODEL_b277e32d079344ecb32486abc1997f1c"
            ],
            "layout": "IPY_MODEL_9d99f7da549f49afbc4a86e428147270"
          }
        },
        "5bfd0d5c71ab4700b5a7c828887ecd40": {
          "model_module": "@jupyter-widgets/controls",
          "model_name": "HTMLModel",
          "model_module_version": "1.5.0",
          "state": {
            "_dom_classes": [],
            "_model_module": "@jupyter-widgets/controls",
            "_model_module_version": "1.5.0",
            "_model_name": "HTMLModel",
            "_view_count": null,
            "_view_module": "@jupyter-widgets/controls",
            "_view_module_version": "1.5.0",
            "_view_name": "HTMLView",
            "description": "",
            "description_tooltip": null,
            "layout": "IPY_MODEL_2ee8429fe8644cc4bf4383926e4fd663",
            "placeholder": "​",
            "style": "IPY_MODEL_cae31e9d65434a74b4a06123ff3e688c",
            "value": "Done! Use &#x27;show&#x27; commands to display/save.   "
          }
        },
        "3b107bc3aa8741789079932a5a3ea66b": {
          "model_module": "@jupyter-widgets/controls",
          "model_name": "FloatProgressModel",
          "model_module_version": "1.5.0",
          "state": {
            "_dom_classes": [],
            "_model_module": "@jupyter-widgets/controls",
            "_model_module_version": "1.5.0",
            "_model_name": "FloatProgressModel",
            "_view_count": null,
            "_view_module": "@jupyter-widgets/controls",
            "_view_module_version": "1.5.0",
            "_view_name": "ProgressView",
            "bar_style": "success",
            "description": "",
            "description_tooltip": null,
            "layout": "IPY_MODEL_962236cced8643ca89ab6fed549787b1",
            "max": 1,
            "min": 0,
            "orientation": "horizontal",
            "style": "IPY_MODEL_ebe5322e80564da4be8eaa6683fef0fe",
            "value": 1
          }
        },
        "b277e32d079344ecb32486abc1997f1c": {
          "model_module": "@jupyter-widgets/controls",
          "model_name": "HTMLModel",
          "model_module_version": "1.5.0",
          "state": {
            "_dom_classes": [],
            "_model_module": "@jupyter-widgets/controls",
            "_model_module_version": "1.5.0",
            "_model_name": "HTMLModel",
            "_view_count": null,
            "_view_module": "@jupyter-widgets/controls",
            "_view_module_version": "1.5.0",
            "_view_name": "HTMLView",
            "description": "",
            "description_tooltip": null,
            "layout": "IPY_MODEL_4e454c099f0048cc86c18165ed5d760a",
            "placeholder": "​",
            "style": "IPY_MODEL_e6f26b83fe194490afb622bbf85cbb40",
            "value": " [100%]   00:00 -&gt; (00:00 left)"
          }
        },
        "9d99f7da549f49afbc4a86e428147270": {
          "model_module": "@jupyter-widgets/base",
          "model_name": "LayoutModel",
          "model_module_version": "1.2.0",
          "state": {
            "_model_module": "@jupyter-widgets/base",
            "_model_module_version": "1.2.0",
            "_model_name": "LayoutModel",
            "_view_count": null,
            "_view_module": "@jupyter-widgets/base",
            "_view_module_version": "1.2.0",
            "_view_name": "LayoutView",
            "align_content": null,
            "align_items": null,
            "align_self": null,
            "border": null,
            "bottom": null,
            "display": "inline-flex",
            "flex": null,
            "flex_flow": "row wrap",
            "grid_area": null,
            "grid_auto_columns": null,
            "grid_auto_flow": null,
            "grid_auto_rows": null,
            "grid_column": null,
            "grid_gap": null,
            "grid_row": null,
            "grid_template_areas": null,
            "grid_template_columns": null,
            "grid_template_rows": null,
            "height": null,
            "justify_content": null,
            "justify_items": null,
            "left": null,
            "margin": null,
            "max_height": null,
            "max_width": null,
            "min_height": null,
            "min_width": null,
            "object_fit": null,
            "object_position": null,
            "order": null,
            "overflow": null,
            "overflow_x": null,
            "overflow_y": null,
            "padding": null,
            "right": null,
            "top": null,
            "visibility": null,
            "width": "100%"
          }
        },
        "2ee8429fe8644cc4bf4383926e4fd663": {
          "model_module": "@jupyter-widgets/base",
          "model_name": "LayoutModel",
          "model_module_version": "1.2.0",
          "state": {
            "_model_module": "@jupyter-widgets/base",
            "_model_module_version": "1.2.0",
            "_model_name": "LayoutModel",
            "_view_count": null,
            "_view_module": "@jupyter-widgets/base",
            "_view_module_version": "1.2.0",
            "_view_name": "LayoutView",
            "align_content": null,
            "align_items": null,
            "align_self": null,
            "border": null,
            "bottom": null,
            "display": null,
            "flex": null,
            "flex_flow": null,
            "grid_area": null,
            "grid_auto_columns": null,
            "grid_auto_flow": null,
            "grid_auto_rows": null,
            "grid_column": null,
            "grid_gap": null,
            "grid_row": null,
            "grid_template_areas": null,
            "grid_template_columns": null,
            "grid_template_rows": null,
            "height": null,
            "justify_content": null,
            "justify_items": null,
            "left": null,
            "margin": null,
            "max_height": null,
            "max_width": null,
            "min_height": null,
            "min_width": null,
            "object_fit": null,
            "object_position": null,
            "order": null,
            "overflow": null,
            "overflow_x": null,
            "overflow_y": null,
            "padding": null,
            "right": null,
            "top": null,
            "visibility": null,
            "width": null
          }
        },
        "cae31e9d65434a74b4a06123ff3e688c": {
          "model_module": "@jupyter-widgets/controls",
          "model_name": "DescriptionStyleModel",
          "model_module_version": "1.5.0",
          "state": {
            "_model_module": "@jupyter-widgets/controls",
            "_model_module_version": "1.5.0",
            "_model_name": "DescriptionStyleModel",
            "_view_count": null,
            "_view_module": "@jupyter-widgets/base",
            "_view_module_version": "1.2.0",
            "_view_name": "StyleView",
            "description_width": ""
          }
        },
        "962236cced8643ca89ab6fed549787b1": {
          "model_module": "@jupyter-widgets/base",
          "model_name": "LayoutModel",
          "model_module_version": "1.2.0",
          "state": {
            "_model_module": "@jupyter-widgets/base",
            "_model_module_version": "1.2.0",
            "_model_name": "LayoutModel",
            "_view_count": null,
            "_view_module": "@jupyter-widgets/base",
            "_view_module_version": "1.2.0",
            "_view_name": "LayoutView",
            "align_content": null,
            "align_items": null,
            "align_self": null,
            "border": null,
            "bottom": null,
            "display": null,
            "flex": "2",
            "flex_flow": null,
            "grid_area": null,
            "grid_auto_columns": null,
            "grid_auto_flow": null,
            "grid_auto_rows": null,
            "grid_column": null,
            "grid_gap": null,
            "grid_row": null,
            "grid_template_areas": null,
            "grid_template_columns": null,
            "grid_template_rows": null,
            "height": null,
            "justify_content": null,
            "justify_items": null,
            "left": null,
            "margin": null,
            "max_height": null,
            "max_width": null,
            "min_height": null,
            "min_width": null,
            "object_fit": null,
            "object_position": null,
            "order": null,
            "overflow": null,
            "overflow_x": null,
            "overflow_y": null,
            "padding": null,
            "right": null,
            "top": null,
            "visibility": null,
            "width": null
          }
        },
        "ebe5322e80564da4be8eaa6683fef0fe": {
          "model_module": "@jupyter-widgets/controls",
          "model_name": "ProgressStyleModel",
          "model_module_version": "1.5.0",
          "state": {
            "_model_module": "@jupyter-widgets/controls",
            "_model_module_version": "1.5.0",
            "_model_name": "ProgressStyleModel",
            "_view_count": null,
            "_view_module": "@jupyter-widgets/base",
            "_view_module_version": "1.2.0",
            "_view_name": "StyleView",
            "bar_color": null,
            "description_width": ""
          }
        },
        "4e454c099f0048cc86c18165ed5d760a": {
          "model_module": "@jupyter-widgets/base",
          "model_name": "LayoutModel",
          "model_module_version": "1.2.0",
          "state": {
            "_model_module": "@jupyter-widgets/base",
            "_model_module_version": "1.2.0",
            "_model_name": "LayoutModel",
            "_view_count": null,
            "_view_module": "@jupyter-widgets/base",
            "_view_module_version": "1.2.0",
            "_view_name": "LayoutView",
            "align_content": null,
            "align_items": null,
            "align_self": null,
            "border": null,
            "bottom": null,
            "display": null,
            "flex": null,
            "flex_flow": null,
            "grid_area": null,
            "grid_auto_columns": null,
            "grid_auto_flow": null,
            "grid_auto_rows": null,
            "grid_column": null,
            "grid_gap": null,
            "grid_row": null,
            "grid_template_areas": null,
            "grid_template_columns": null,
            "grid_template_rows": null,
            "height": null,
            "justify_content": null,
            "justify_items": null,
            "left": null,
            "margin": null,
            "max_height": null,
            "max_width": null,
            "min_height": null,
            "min_width": null,
            "object_fit": null,
            "object_position": null,
            "order": null,
            "overflow": null,
            "overflow_x": null,
            "overflow_y": null,
            "padding": null,
            "right": null,
            "top": null,
            "visibility": null,
            "width": null
          }
        },
        "e6f26b83fe194490afb622bbf85cbb40": {
          "model_module": "@jupyter-widgets/controls",
          "model_name": "DescriptionStyleModel",
          "model_module_version": "1.5.0",
          "state": {
            "_model_module": "@jupyter-widgets/controls",
            "_model_module_version": "1.5.0",
            "_model_name": "DescriptionStyleModel",
            "_view_count": null,
            "_view_module": "@jupyter-widgets/base",
            "_view_module_version": "1.2.0",
            "_view_name": "StyleView",
            "description_width": ""
          }
        }
      }
    }
  },
  "cells": [
    {
      "cell_type": "markdown",
      "metadata": {
        "id": "view-in-github",
        "colab_type": "text"
      },
      "source": [
        "<a href=\"https://colab.research.google.com/github/Hipolito-zenteno/vale/blob/main/AnalisisDatos_(1).ipynb\" target=\"_parent\"><img src=\"https://colab.research.google.com/assets/colab-badge.svg\" alt=\"Open In Colab\"/></a>"
      ]
    },
    {
      "cell_type": "code",
      "execution_count": null,
      "metadata": {
        "id": "eeMI0pl_D91i"
      },
      "outputs": [],
      "source": [
        "import matplotlib #.pyplot as plt1\n",
        "from matplotlib import pyplot as plt\n",
        "import numpy as np\n",
        "import pandas as pd\n",
        "import scipy as sp\n",
        "import seaborn as sns\n",
        "import statsmodels.api as sm\n",
        "import statsmodels.tsa.api as smt\n",
        "import warnings\n",
        "from sklearn.linear_model import LinearRegression\n",
        "from sklearn.model_selection import train_test_split\n",
        "from statsmodels.stats.outliers_influence import variance_inflation_factor"
      ]
    },
    {
      "cell_type": "code",
      "source": [
        "warnings.filterwarnings(\"ignore\")\n",
        "%matplotlib inline"
      ],
      "metadata": {
        "id": "PZzwFxs0Up7U"
      },
      "execution_count": null,
      "outputs": []
    },
    {
      "cell_type": "code",
      "source": [
        "# Importando el conjunto de datos\n",
        "df = pd.read_csv('picos_intensidad.csv',sep=';')"
      ],
      "metadata": {
        "id": "8pGZRaw3UrC7"
      },
      "execution_count": null,
      "outputs": []
    },
    {
      "cell_type": "code",
      "source": [
        "df.head()"
      ],
      "metadata": {
        "colab": {
          "base_uri": "https://localhost:8080/",
          "height": 206
        },
        "id": "SrKoTq4MU39b",
        "outputId": "9ba42b8c-8be9-4a11-8b37-e2bc0ac1b261"
      },
      "execution_count": null,
      "outputs": [
        {
          "output_type": "execute_result",
          "data": {
            "text/plain": [
              "                Fecha SAG Run Sts      Presion  \\\n",
              "0  21-ago-20 07:00:00    Shutdown     Shutdown   \n",
              "1  21-ago-20 07:01:00    Shutdown   341.994812   \n",
              "2  21-ago-20 07:02:00    Shutdown  339.9818726   \n",
              "3  21-ago-20 07:03:00    Shutdown  336.7662659   \n",
              "4  21-ago-20 07:04:00    Shutdown  334.7826538   \n",
              "\n",
              "                  Intensidad de impactos  \\\n",
              "0  [-11059] No Good Data For Calculation   \n",
              "1  [-11059] No Good Data For Calculation   \n",
              "2  [-11059] No Good Data For Calculation   \n",
              "3  [-11059] No Good Data For Calculation   \n",
              "4  [-11059] No Good Data For Calculation   \n",
              "\n",
              "                                Tonelaje Velocidad  %Solidos  Potencia  \\\n",
              "0  [-11059] No Good Data For Calculation  Shutdown  Shutdown  Shutdown   \n",
              "1  [-11059] No Good Data For Calculation  Shutdown  Shutdown  Shutdown   \n",
              "2  [-11059] No Good Data For Calculation  Shutdown  Shutdown  Shutdown   \n",
              "3  [-11059] No Good Data For Calculation  Shutdown  Shutdown  Shutdown   \n",
              "4  [-11059] No Good Data For Calculation  Shutdown  Shutdown  Shutdown   \n",
              "\n",
              "        F80     Brazo  \n",
              "0  Shutdown  Shutdown  \n",
              "1  Shutdown  Shutdown  \n",
              "2  Shutdown  Shutdown  \n",
              "3  Shutdown  Shutdown  \n",
              "4  Shutdown  Shutdown  "
            ],
            "text/html": [
              "\n",
              "  <div id=\"df-fdf1d7d7-30cc-4c97-a788-677041458262\">\n",
              "    <div class=\"colab-df-container\">\n",
              "      <div>\n",
              "<style scoped>\n",
              "    .dataframe tbody tr th:only-of-type {\n",
              "        vertical-align: middle;\n",
              "    }\n",
              "\n",
              "    .dataframe tbody tr th {\n",
              "        vertical-align: top;\n",
              "    }\n",
              "\n",
              "    .dataframe thead th {\n",
              "        text-align: right;\n",
              "    }\n",
              "</style>\n",
              "<table border=\"1\" class=\"dataframe\">\n",
              "  <thead>\n",
              "    <tr style=\"text-align: right;\">\n",
              "      <th></th>\n",
              "      <th>Fecha</th>\n",
              "      <th>SAG Run Sts</th>\n",
              "      <th>Presion</th>\n",
              "      <th>Intensidad de impactos</th>\n",
              "      <th>Tonelaje</th>\n",
              "      <th>Velocidad</th>\n",
              "      <th>%Solidos</th>\n",
              "      <th>Potencia</th>\n",
              "      <th>F80</th>\n",
              "      <th>Brazo</th>\n",
              "    </tr>\n",
              "  </thead>\n",
              "  <tbody>\n",
              "    <tr>\n",
              "      <th>0</th>\n",
              "      <td>21-ago-20 07:00:00</td>\n",
              "      <td>Shutdown</td>\n",
              "      <td>Shutdown</td>\n",
              "      <td>[-11059] No Good Data For Calculation</td>\n",
              "      <td>[-11059] No Good Data For Calculation</td>\n",
              "      <td>Shutdown</td>\n",
              "      <td>Shutdown</td>\n",
              "      <td>Shutdown</td>\n",
              "      <td>Shutdown</td>\n",
              "      <td>Shutdown</td>\n",
              "    </tr>\n",
              "    <tr>\n",
              "      <th>1</th>\n",
              "      <td>21-ago-20 07:01:00</td>\n",
              "      <td>Shutdown</td>\n",
              "      <td>341.994812</td>\n",
              "      <td>[-11059] No Good Data For Calculation</td>\n",
              "      <td>[-11059] No Good Data For Calculation</td>\n",
              "      <td>Shutdown</td>\n",
              "      <td>Shutdown</td>\n",
              "      <td>Shutdown</td>\n",
              "      <td>Shutdown</td>\n",
              "      <td>Shutdown</td>\n",
              "    </tr>\n",
              "    <tr>\n",
              "      <th>2</th>\n",
              "      <td>21-ago-20 07:02:00</td>\n",
              "      <td>Shutdown</td>\n",
              "      <td>339.9818726</td>\n",
              "      <td>[-11059] No Good Data For Calculation</td>\n",
              "      <td>[-11059] No Good Data For Calculation</td>\n",
              "      <td>Shutdown</td>\n",
              "      <td>Shutdown</td>\n",
              "      <td>Shutdown</td>\n",
              "      <td>Shutdown</td>\n",
              "      <td>Shutdown</td>\n",
              "    </tr>\n",
              "    <tr>\n",
              "      <th>3</th>\n",
              "      <td>21-ago-20 07:03:00</td>\n",
              "      <td>Shutdown</td>\n",
              "      <td>336.7662659</td>\n",
              "      <td>[-11059] No Good Data For Calculation</td>\n",
              "      <td>[-11059] No Good Data For Calculation</td>\n",
              "      <td>Shutdown</td>\n",
              "      <td>Shutdown</td>\n",
              "      <td>Shutdown</td>\n",
              "      <td>Shutdown</td>\n",
              "      <td>Shutdown</td>\n",
              "    </tr>\n",
              "    <tr>\n",
              "      <th>4</th>\n",
              "      <td>21-ago-20 07:04:00</td>\n",
              "      <td>Shutdown</td>\n",
              "      <td>334.7826538</td>\n",
              "      <td>[-11059] No Good Data For Calculation</td>\n",
              "      <td>[-11059] No Good Data For Calculation</td>\n",
              "      <td>Shutdown</td>\n",
              "      <td>Shutdown</td>\n",
              "      <td>Shutdown</td>\n",
              "      <td>Shutdown</td>\n",
              "      <td>Shutdown</td>\n",
              "    </tr>\n",
              "  </tbody>\n",
              "</table>\n",
              "</div>\n",
              "      <button class=\"colab-df-convert\" onclick=\"convertToInteractive('df-fdf1d7d7-30cc-4c97-a788-677041458262')\"\n",
              "              title=\"Convert this dataframe to an interactive table.\"\n",
              "              style=\"display:none;\">\n",
              "        \n",
              "  <svg xmlns=\"http://www.w3.org/2000/svg\" height=\"24px\"viewBox=\"0 0 24 24\"\n",
              "       width=\"24px\">\n",
              "    <path d=\"M0 0h24v24H0V0z\" fill=\"none\"/>\n",
              "    <path d=\"M18.56 5.44l.94 2.06.94-2.06 2.06-.94-2.06-.94-.94-2.06-.94 2.06-2.06.94zm-11 1L8.5 8.5l.94-2.06 2.06-.94-2.06-.94L8.5 2.5l-.94 2.06-2.06.94zm10 10l.94 2.06.94-2.06 2.06-.94-2.06-.94-.94-2.06-.94 2.06-2.06.94z\"/><path d=\"M17.41 7.96l-1.37-1.37c-.4-.4-.92-.59-1.43-.59-.52 0-1.04.2-1.43.59L10.3 9.45l-7.72 7.72c-.78.78-.78 2.05 0 2.83L4 21.41c.39.39.9.59 1.41.59.51 0 1.02-.2 1.41-.59l7.78-7.78 2.81-2.81c.8-.78.8-2.07 0-2.86zM5.41 20L4 18.59l7.72-7.72 1.47 1.35L5.41 20z\"/>\n",
              "  </svg>\n",
              "      </button>\n",
              "      \n",
              "  <style>\n",
              "    .colab-df-container {\n",
              "      display:flex;\n",
              "      flex-wrap:wrap;\n",
              "      gap: 12px;\n",
              "    }\n",
              "\n",
              "    .colab-df-convert {\n",
              "      background-color: #E8F0FE;\n",
              "      border: none;\n",
              "      border-radius: 50%;\n",
              "      cursor: pointer;\n",
              "      display: none;\n",
              "      fill: #1967D2;\n",
              "      height: 32px;\n",
              "      padding: 0 0 0 0;\n",
              "      width: 32px;\n",
              "    }\n",
              "\n",
              "    .colab-df-convert:hover {\n",
              "      background-color: #E2EBFA;\n",
              "      box-shadow: 0px 1px 2px rgba(60, 64, 67, 0.3), 0px 1px 3px 1px rgba(60, 64, 67, 0.15);\n",
              "      fill: #174EA6;\n",
              "    }\n",
              "\n",
              "    [theme=dark] .colab-df-convert {\n",
              "      background-color: #3B4455;\n",
              "      fill: #D2E3FC;\n",
              "    }\n",
              "\n",
              "    [theme=dark] .colab-df-convert:hover {\n",
              "      background-color: #434B5C;\n",
              "      box-shadow: 0px 1px 3px 1px rgba(0, 0, 0, 0.15);\n",
              "      filter: drop-shadow(0px 1px 2px rgba(0, 0, 0, 0.3));\n",
              "      fill: #FFFFFF;\n",
              "    }\n",
              "  </style>\n",
              "\n",
              "      <script>\n",
              "        const buttonEl =\n",
              "          document.querySelector('#df-fdf1d7d7-30cc-4c97-a788-677041458262 button.colab-df-convert');\n",
              "        buttonEl.style.display =\n",
              "          google.colab.kernel.accessAllowed ? 'block' : 'none';\n",
              "\n",
              "        async function convertToInteractive(key) {\n",
              "          const element = document.querySelector('#df-fdf1d7d7-30cc-4c97-a788-677041458262');\n",
              "          const dataTable =\n",
              "            await google.colab.kernel.invokeFunction('convertToInteractive',\n",
              "                                                     [key], {});\n",
              "          if (!dataTable) return;\n",
              "\n",
              "          const docLinkHtml = 'Like what you see? Visit the ' +\n",
              "            '<a target=\"_blank\" href=https://colab.research.google.com/notebooks/data_table.ipynb>data table notebook</a>'\n",
              "            + ' to learn more about interactive tables.';\n",
              "          element.innerHTML = '';\n",
              "          dataTable['output_type'] = 'display_data';\n",
              "          await google.colab.output.renderOutput(dataTable, element);\n",
              "          const docLink = document.createElement('div');\n",
              "          docLink.innerHTML = docLinkHtml;\n",
              "          element.appendChild(docLink);\n",
              "        }\n",
              "      </script>\n",
              "    </div>\n",
              "  </div>\n",
              "  "
            ]
          },
          "metadata": {},
          "execution_count": 57
        }
      ]
    },
    {
      "cell_type": "code",
      "source": [
        "df.columns"
      ],
      "metadata": {
        "colab": {
          "base_uri": "https://localhost:8080/"
        },
        "id": "0ezDDjJwU787",
        "outputId": "26ede6e5-b045-41b9-d29a-2e00ba54344b"
      },
      "execution_count": null,
      "outputs": [
        {
          "output_type": "execute_result",
          "data": {
            "text/plain": [
              "Index(['Fecha', 'SAG Run Sts', 'Presion', 'Intensidad de impactos', 'Tonelaje',\n",
              "       'Velocidad', '%Solidos', 'Potencia', 'F80', 'Brazo'],\n",
              "      dtype='object')"
            ]
          },
          "metadata": {},
          "execution_count": 58
        }
      ]
    },
    {
      "cell_type": "code",
      "source": [
        "df.shape\n",
        "# 15K filas\n",
        "# 12 columnas"
      ],
      "metadata": {
        "colab": {
          "base_uri": "https://localhost:8080/"
        },
        "id": "YpjB_x27U_as",
        "outputId": "14df042d-00dd-467d-db08-3d185f8a518f"
      },
      "execution_count": null,
      "outputs": [
        {
          "output_type": "execute_result",
          "data": {
            "text/plain": [
              "(15420, 10)"
            ]
          },
          "metadata": {},
          "execution_count": 59
        }
      ]
    },
    {
      "cell_type": "markdown",
      "source": [
        "# target: Intensidad de impactos"
      ],
      "metadata": {
        "id": "18BbXlZ1VFvE"
      }
    },
    {
      "cell_type": "code",
      "source": [
        "df.count()"
      ],
      "metadata": {
        "colab": {
          "base_uri": "https://localhost:8080/"
        },
        "id": "vrQmgoVFVHo8",
        "outputId": "ab3c5193-933e-4c86-a46a-9f0f3def2013"
      },
      "execution_count": null,
      "outputs": [
        {
          "output_type": "execute_result",
          "data": {
            "text/plain": [
              "Fecha                     15420\n",
              "SAG Run Sts               15420\n",
              "Presion                   15420\n",
              "Intensidad de impactos    15420\n",
              "Tonelaje                  15420\n",
              "Velocidad                 15420\n",
              "%Solidos                  15420\n",
              "Potencia                  15420\n",
              "F80                       15420\n",
              "Brazo                     15420\n",
              "dtype: int64"
            ]
          },
          "metadata": {},
          "execution_count": 60
        }
      ]
    },
    {
      "cell_type": "code",
      "source": [
        "# Cantidad de filas con valores nulos\n",
        "sum(df.isnull().values.ravel())"
      ],
      "metadata": {
        "colab": {
          "base_uri": "https://localhost:8080/"
        },
        "id": "rJwoFIa_VKAk",
        "outputId": "5aa9f5b6-2849-479a-d91a-10878f1bca3e"
      },
      "execution_count": null,
      "outputs": [
        {
          "output_type": "execute_result",
          "data": {
            "text/plain": [
              "0"
            ]
          },
          "metadata": {},
          "execution_count": 61
        }
      ]
    },
    {
      "cell_type": "code",
      "source": [
        "df.shape[0]"
      ],
      "metadata": {
        "colab": {
          "base_uri": "https://localhost:8080/"
        },
        "id": "nClDT2M7VMcU",
        "outputId": "e62ce61d-7b21-48e0-a99d-2dde948ecd5a"
      },
      "execution_count": null,
      "outputs": [
        {
          "output_type": "execute_result",
          "data": {
            "text/plain": [
              "15420"
            ]
          },
          "metadata": {},
          "execution_count": 62
        }
      ]
    },
    {
      "cell_type": "code",
      "source": [
        "# Garantizando que no existan filas con valores nulos\n",
        "df = df.dropna()"
      ],
      "metadata": {
        "id": "ijensayDVQe0"
      },
      "execution_count": null,
      "outputs": []
    },
    {
      "cell_type": "code",
      "source": [
        "df.shape[0]"
      ],
      "metadata": {
        "colab": {
          "base_uri": "https://localhost:8080/"
        },
        "id": "EV0uJtxIVRw8",
        "outputId": "314a4f29-4fda-4a07-a6c4-a58f698e1629"
      },
      "execution_count": null,
      "outputs": [
        {
          "output_type": "execute_result",
          "data": {
            "text/plain": [
              "15420"
            ]
          },
          "metadata": {},
          "execution_count": 64
        }
      ]
    },
    {
      "cell_type": "code",
      "source": [
        "# Cantidad de filas con valores nulos\n",
        "sum(df.isnull().values.ravel())"
      ],
      "metadata": {
        "colab": {
          "base_uri": "https://localhost:8080/"
        },
        "id": "vW5MqjTkVUzc",
        "outputId": "20ac0673-4302-4407-f7e9-9fcdbd8a0138"
      },
      "execution_count": null,
      "outputs": [
        {
          "output_type": "execute_result",
          "data": {
            "text/plain": [
              "0"
            ]
          },
          "metadata": {},
          "execution_count": 65
        }
      ]
    },
    {
      "cell_type": "code",
      "source": [
        "df.dtypes"
      ],
      "metadata": {
        "colab": {
          "base_uri": "https://localhost:8080/"
        },
        "id": "r57z9zMPVZD8",
        "outputId": "4470eb36-bb5f-44e0-8f35-54eeaa43c9ca"
      },
      "execution_count": null,
      "outputs": [
        {
          "output_type": "execute_result",
          "data": {
            "text/plain": [
              "Fecha                     object\n",
              "SAG Run Sts               object\n",
              "Presion                   object\n",
              "Intensidad de impactos    object\n",
              "Tonelaje                  object\n",
              "Velocidad                 object\n",
              "%Solidos                  object\n",
              "Potencia                  object\n",
              "F80                       object\n",
              "Brazo                     object\n",
              "dtype: object"
            ]
          },
          "metadata": {},
          "execution_count": 66
        }
      ]
    },
    {
      "cell_type": "markdown",
      "source": [
        "PREPARACION DE LOS DATOS"
      ],
      "metadata": {
        "id": "nwI4kSC5VcM8"
      }
    },
    {
      "cell_type": "code",
      "source": [
        "##Tratamiento de datos invalidos\n",
        "#-------------------------------------------\n",
        "titles=list(df)\n",
        "for col in titles:\n",
        "    #Eliminar filas cuyo valor en columna tenga un dato vacio\n",
        "    df=df.dropna(subset=[col])\n",
        "    #Eliminar valores invalidos\n",
        "    df = df.drop(df[(df[col]=='Bad') | (df[col]=='Shutdown') | (df[col]=='I/O Timeout')| (df[col]=='[-11059] No Good Data For Calculation') | (df[col]==' ')].index)\n",
        "#Filtro Sag encendido\n",
        "df = df.drop(df[df['SAG Run Sts']=='Stop'].index)\n",
        "df = df.drop(['SAG Run Sts'], axis=1)\n",
        "df.isnull().sum(axis=0)"
      ],
      "metadata": {
        "colab": {
          "base_uri": "https://localhost:8080/"
        },
        "id": "U30AW5qhVeTd",
        "outputId": "bdb75a64-a8c3-44ab-c9ef-7e03490589f4"
      },
      "execution_count": null,
      "outputs": [
        {
          "output_type": "execute_result",
          "data": {
            "text/plain": [
              "Fecha                     0\n",
              "Presion                   0\n",
              "Intensidad de impactos    0\n",
              "Tonelaje                  0\n",
              "Velocidad                 0\n",
              "%Solidos                  0\n",
              "Potencia                  0\n",
              "F80                       0\n",
              "Brazo                     0\n",
              "dtype: int64"
            ]
          },
          "metadata": {},
          "execution_count": 67
        }
      ]
    },
    {
      "cell_type": "code",
      "source": [
        "df.head()"
      ],
      "metadata": {
        "colab": {
          "base_uri": "https://localhost:8080/",
          "height": 206
        },
        "id": "u9TfYmb3Vinz",
        "outputId": "0871a8ec-0d28-41af-800e-913240f18e61"
      },
      "execution_count": null,
      "outputs": [
        {
          "output_type": "execute_result",
          "data": {
            "text/plain": [
              "                  Fecha      Presion Intensidad de impactos     Tonelaje  \\\n",
              "316  21-ago-20 12:16:00  6144.825195            52.49315836  3323.114192   \n",
              "317  21-ago-20 12:17:00   6143.40332             52.8292538  3293.343421   \n",
              "318  21-ago-20 12:18:00  6139.657715            54.74063192   3331.12461   \n",
              "319  21-ago-20 12:19:00  6138.418945            57.07302068    3289.8794   \n",
              "320  21-ago-20 12:20:00  6135.470703            54.65946255  3286.992377   \n",
              "\n",
              "       Velocidad     %Solidos     Potencia          F80        Brazo  \n",
              "316    8.8313694  74.19773102  10869.20605   67.6027832  2.010852575  \n",
              "317  8.832609177  74.46723938  10867.19141  67.42101288  1.994790077  \n",
              "318  8.830718994   74.5040741  10795.39258  67.46234131  1.997226357  \n",
              "319  8.838692665  74.49647522  10801.25879  67.08267212  2.005003929  \n",
              "320  8.839502335  74.26107788  10883.07031  66.56684113  2.010220528  "
            ],
            "text/html": [
              "\n",
              "  <div id=\"df-9e54260f-3629-482a-8489-640e6372c068\">\n",
              "    <div class=\"colab-df-container\">\n",
              "      <div>\n",
              "<style scoped>\n",
              "    .dataframe tbody tr th:only-of-type {\n",
              "        vertical-align: middle;\n",
              "    }\n",
              "\n",
              "    .dataframe tbody tr th {\n",
              "        vertical-align: top;\n",
              "    }\n",
              "\n",
              "    .dataframe thead th {\n",
              "        text-align: right;\n",
              "    }\n",
              "</style>\n",
              "<table border=\"1\" class=\"dataframe\">\n",
              "  <thead>\n",
              "    <tr style=\"text-align: right;\">\n",
              "      <th></th>\n",
              "      <th>Fecha</th>\n",
              "      <th>Presion</th>\n",
              "      <th>Intensidad de impactos</th>\n",
              "      <th>Tonelaje</th>\n",
              "      <th>Velocidad</th>\n",
              "      <th>%Solidos</th>\n",
              "      <th>Potencia</th>\n",
              "      <th>F80</th>\n",
              "      <th>Brazo</th>\n",
              "    </tr>\n",
              "  </thead>\n",
              "  <tbody>\n",
              "    <tr>\n",
              "      <th>316</th>\n",
              "      <td>21-ago-20 12:16:00</td>\n",
              "      <td>6144.825195</td>\n",
              "      <td>52.49315836</td>\n",
              "      <td>3323.114192</td>\n",
              "      <td>8.8313694</td>\n",
              "      <td>74.19773102</td>\n",
              "      <td>10869.20605</td>\n",
              "      <td>67.6027832</td>\n",
              "      <td>2.010852575</td>\n",
              "    </tr>\n",
              "    <tr>\n",
              "      <th>317</th>\n",
              "      <td>21-ago-20 12:17:00</td>\n",
              "      <td>6143.40332</td>\n",
              "      <td>52.8292538</td>\n",
              "      <td>3293.343421</td>\n",
              "      <td>8.832609177</td>\n",
              "      <td>74.46723938</td>\n",
              "      <td>10867.19141</td>\n",
              "      <td>67.42101288</td>\n",
              "      <td>1.994790077</td>\n",
              "    </tr>\n",
              "    <tr>\n",
              "      <th>318</th>\n",
              "      <td>21-ago-20 12:18:00</td>\n",
              "      <td>6139.657715</td>\n",
              "      <td>54.74063192</td>\n",
              "      <td>3331.12461</td>\n",
              "      <td>8.830718994</td>\n",
              "      <td>74.5040741</td>\n",
              "      <td>10795.39258</td>\n",
              "      <td>67.46234131</td>\n",
              "      <td>1.997226357</td>\n",
              "    </tr>\n",
              "    <tr>\n",
              "      <th>319</th>\n",
              "      <td>21-ago-20 12:19:00</td>\n",
              "      <td>6138.418945</td>\n",
              "      <td>57.07302068</td>\n",
              "      <td>3289.8794</td>\n",
              "      <td>8.838692665</td>\n",
              "      <td>74.49647522</td>\n",
              "      <td>10801.25879</td>\n",
              "      <td>67.08267212</td>\n",
              "      <td>2.005003929</td>\n",
              "    </tr>\n",
              "    <tr>\n",
              "      <th>320</th>\n",
              "      <td>21-ago-20 12:20:00</td>\n",
              "      <td>6135.470703</td>\n",
              "      <td>54.65946255</td>\n",
              "      <td>3286.992377</td>\n",
              "      <td>8.839502335</td>\n",
              "      <td>74.26107788</td>\n",
              "      <td>10883.07031</td>\n",
              "      <td>66.56684113</td>\n",
              "      <td>2.010220528</td>\n",
              "    </tr>\n",
              "  </tbody>\n",
              "</table>\n",
              "</div>\n",
              "      <button class=\"colab-df-convert\" onclick=\"convertToInteractive('df-9e54260f-3629-482a-8489-640e6372c068')\"\n",
              "              title=\"Convert this dataframe to an interactive table.\"\n",
              "              style=\"display:none;\">\n",
              "        \n",
              "  <svg xmlns=\"http://www.w3.org/2000/svg\" height=\"24px\"viewBox=\"0 0 24 24\"\n",
              "       width=\"24px\">\n",
              "    <path d=\"M0 0h24v24H0V0z\" fill=\"none\"/>\n",
              "    <path d=\"M18.56 5.44l.94 2.06.94-2.06 2.06-.94-2.06-.94-.94-2.06-.94 2.06-2.06.94zm-11 1L8.5 8.5l.94-2.06 2.06-.94-2.06-.94L8.5 2.5l-.94 2.06-2.06.94zm10 10l.94 2.06.94-2.06 2.06-.94-2.06-.94-.94-2.06-.94 2.06-2.06.94z\"/><path d=\"M17.41 7.96l-1.37-1.37c-.4-.4-.92-.59-1.43-.59-.52 0-1.04.2-1.43.59L10.3 9.45l-7.72 7.72c-.78.78-.78 2.05 0 2.83L4 21.41c.39.39.9.59 1.41.59.51 0 1.02-.2 1.41-.59l7.78-7.78 2.81-2.81c.8-.78.8-2.07 0-2.86zM5.41 20L4 18.59l7.72-7.72 1.47 1.35L5.41 20z\"/>\n",
              "  </svg>\n",
              "      </button>\n",
              "      \n",
              "  <style>\n",
              "    .colab-df-container {\n",
              "      display:flex;\n",
              "      flex-wrap:wrap;\n",
              "      gap: 12px;\n",
              "    }\n",
              "\n",
              "    .colab-df-convert {\n",
              "      background-color: #E8F0FE;\n",
              "      border: none;\n",
              "      border-radius: 50%;\n",
              "      cursor: pointer;\n",
              "      display: none;\n",
              "      fill: #1967D2;\n",
              "      height: 32px;\n",
              "      padding: 0 0 0 0;\n",
              "      width: 32px;\n",
              "    }\n",
              "\n",
              "    .colab-df-convert:hover {\n",
              "      background-color: #E2EBFA;\n",
              "      box-shadow: 0px 1px 2px rgba(60, 64, 67, 0.3), 0px 1px 3px 1px rgba(60, 64, 67, 0.15);\n",
              "      fill: #174EA6;\n",
              "    }\n",
              "\n",
              "    [theme=dark] .colab-df-convert {\n",
              "      background-color: #3B4455;\n",
              "      fill: #D2E3FC;\n",
              "    }\n",
              "\n",
              "    [theme=dark] .colab-df-convert:hover {\n",
              "      background-color: #434B5C;\n",
              "      box-shadow: 0px 1px 3px 1px rgba(0, 0, 0, 0.15);\n",
              "      filter: drop-shadow(0px 1px 2px rgba(0, 0, 0, 0.3));\n",
              "      fill: #FFFFFF;\n",
              "    }\n",
              "  </style>\n",
              "\n",
              "      <script>\n",
              "        const buttonEl =\n",
              "          document.querySelector('#df-9e54260f-3629-482a-8489-640e6372c068 button.colab-df-convert');\n",
              "        buttonEl.style.display =\n",
              "          google.colab.kernel.accessAllowed ? 'block' : 'none';\n",
              "\n",
              "        async function convertToInteractive(key) {\n",
              "          const element = document.querySelector('#df-9e54260f-3629-482a-8489-640e6372c068');\n",
              "          const dataTable =\n",
              "            await google.colab.kernel.invokeFunction('convertToInteractive',\n",
              "                                                     [key], {});\n",
              "          if (!dataTable) return;\n",
              "\n",
              "          const docLinkHtml = 'Like what you see? Visit the ' +\n",
              "            '<a target=\"_blank\" href=https://colab.research.google.com/notebooks/data_table.ipynb>data table notebook</a>'\n",
              "            + ' to learn more about interactive tables.';\n",
              "          element.innerHTML = '';\n",
              "          dataTable['output_type'] = 'display_data';\n",
              "          await google.colab.output.renderOutput(dataTable, element);\n",
              "          const docLink = document.createElement('div');\n",
              "          docLink.innerHTML = docLinkHtml;\n",
              "          element.appendChild(docLink);\n",
              "        }\n",
              "      </script>\n",
              "    </div>\n",
              "  </div>\n",
              "  "
            ]
          },
          "metadata": {},
          "execution_count": 68
        }
      ]
    },
    {
      "cell_type": "code",
      "source": [
        "df=df[['Presion','Intensidad de impactos','Tonelaje','Velocidad','%Solidos','Potencia','F80','Brazo']]\n",
        "df=df.astype(float).round(2)"
      ],
      "metadata": {
        "id": "SG7SMjppVlK7"
      },
      "execution_count": null,
      "outputs": []
    },
    {
      "cell_type": "code",
      "source": [
        "df.head()"
      ],
      "metadata": {
        "colab": {
          "base_uri": "https://localhost:8080/",
          "height": 206
        },
        "id": "LAWebsaZVoCz",
        "outputId": "5f2324bb-d47a-4d21-c7f6-45c056b8cf64"
      },
      "execution_count": null,
      "outputs": [
        {
          "output_type": "execute_result",
          "data": {
            "text/plain": [
              "     Presion  Intensidad de impactos  Tonelaje  Velocidad  %Solidos  Potencia  \\\n",
              "316  6144.83                   52.49   3323.11       8.83     74.20  10869.21   \n",
              "317  6143.40                   52.83   3293.34       8.83     74.47  10867.19   \n",
              "318  6139.66                   54.74   3331.12       8.83     74.50  10795.39   \n",
              "319  6138.42                   57.07   3289.88       8.84     74.50  10801.26   \n",
              "320  6135.47                   54.66   3286.99       8.84     74.26  10883.07   \n",
              "\n",
              "       F80  Brazo  \n",
              "316  67.60   2.01  \n",
              "317  67.42   1.99  \n",
              "318  67.46   2.00  \n",
              "319  67.08   2.01  \n",
              "320  66.57   2.01  "
            ],
            "text/html": [
              "\n",
              "  <div id=\"df-0b1956d3-ee45-4840-99c5-62c09ee52065\">\n",
              "    <div class=\"colab-df-container\">\n",
              "      <div>\n",
              "<style scoped>\n",
              "    .dataframe tbody tr th:only-of-type {\n",
              "        vertical-align: middle;\n",
              "    }\n",
              "\n",
              "    .dataframe tbody tr th {\n",
              "        vertical-align: top;\n",
              "    }\n",
              "\n",
              "    .dataframe thead th {\n",
              "        text-align: right;\n",
              "    }\n",
              "</style>\n",
              "<table border=\"1\" class=\"dataframe\">\n",
              "  <thead>\n",
              "    <tr style=\"text-align: right;\">\n",
              "      <th></th>\n",
              "      <th>Presion</th>\n",
              "      <th>Intensidad de impactos</th>\n",
              "      <th>Tonelaje</th>\n",
              "      <th>Velocidad</th>\n",
              "      <th>%Solidos</th>\n",
              "      <th>Potencia</th>\n",
              "      <th>F80</th>\n",
              "      <th>Brazo</th>\n",
              "    </tr>\n",
              "  </thead>\n",
              "  <tbody>\n",
              "    <tr>\n",
              "      <th>316</th>\n",
              "      <td>6144.83</td>\n",
              "      <td>52.49</td>\n",
              "      <td>3323.11</td>\n",
              "      <td>8.83</td>\n",
              "      <td>74.20</td>\n",
              "      <td>10869.21</td>\n",
              "      <td>67.60</td>\n",
              "      <td>2.01</td>\n",
              "    </tr>\n",
              "    <tr>\n",
              "      <th>317</th>\n",
              "      <td>6143.40</td>\n",
              "      <td>52.83</td>\n",
              "      <td>3293.34</td>\n",
              "      <td>8.83</td>\n",
              "      <td>74.47</td>\n",
              "      <td>10867.19</td>\n",
              "      <td>67.42</td>\n",
              "      <td>1.99</td>\n",
              "    </tr>\n",
              "    <tr>\n",
              "      <th>318</th>\n",
              "      <td>6139.66</td>\n",
              "      <td>54.74</td>\n",
              "      <td>3331.12</td>\n",
              "      <td>8.83</td>\n",
              "      <td>74.50</td>\n",
              "      <td>10795.39</td>\n",
              "      <td>67.46</td>\n",
              "      <td>2.00</td>\n",
              "    </tr>\n",
              "    <tr>\n",
              "      <th>319</th>\n",
              "      <td>6138.42</td>\n",
              "      <td>57.07</td>\n",
              "      <td>3289.88</td>\n",
              "      <td>8.84</td>\n",
              "      <td>74.50</td>\n",
              "      <td>10801.26</td>\n",
              "      <td>67.08</td>\n",
              "      <td>2.01</td>\n",
              "    </tr>\n",
              "    <tr>\n",
              "      <th>320</th>\n",
              "      <td>6135.47</td>\n",
              "      <td>54.66</td>\n",
              "      <td>3286.99</td>\n",
              "      <td>8.84</td>\n",
              "      <td>74.26</td>\n",
              "      <td>10883.07</td>\n",
              "      <td>66.57</td>\n",
              "      <td>2.01</td>\n",
              "    </tr>\n",
              "  </tbody>\n",
              "</table>\n",
              "</div>\n",
              "      <button class=\"colab-df-convert\" onclick=\"convertToInteractive('df-0b1956d3-ee45-4840-99c5-62c09ee52065')\"\n",
              "              title=\"Convert this dataframe to an interactive table.\"\n",
              "              style=\"display:none;\">\n",
              "        \n",
              "  <svg xmlns=\"http://www.w3.org/2000/svg\" height=\"24px\"viewBox=\"0 0 24 24\"\n",
              "       width=\"24px\">\n",
              "    <path d=\"M0 0h24v24H0V0z\" fill=\"none\"/>\n",
              "    <path d=\"M18.56 5.44l.94 2.06.94-2.06 2.06-.94-2.06-.94-.94-2.06-.94 2.06-2.06.94zm-11 1L8.5 8.5l.94-2.06 2.06-.94-2.06-.94L8.5 2.5l-.94 2.06-2.06.94zm10 10l.94 2.06.94-2.06 2.06-.94-2.06-.94-.94-2.06-.94 2.06-2.06.94z\"/><path d=\"M17.41 7.96l-1.37-1.37c-.4-.4-.92-.59-1.43-.59-.52 0-1.04.2-1.43.59L10.3 9.45l-7.72 7.72c-.78.78-.78 2.05 0 2.83L4 21.41c.39.39.9.59 1.41.59.51 0 1.02-.2 1.41-.59l7.78-7.78 2.81-2.81c.8-.78.8-2.07 0-2.86zM5.41 20L4 18.59l7.72-7.72 1.47 1.35L5.41 20z\"/>\n",
              "  </svg>\n",
              "      </button>\n",
              "      \n",
              "  <style>\n",
              "    .colab-df-container {\n",
              "      display:flex;\n",
              "      flex-wrap:wrap;\n",
              "      gap: 12px;\n",
              "    }\n",
              "\n",
              "    .colab-df-convert {\n",
              "      background-color: #E8F0FE;\n",
              "      border: none;\n",
              "      border-radius: 50%;\n",
              "      cursor: pointer;\n",
              "      display: none;\n",
              "      fill: #1967D2;\n",
              "      height: 32px;\n",
              "      padding: 0 0 0 0;\n",
              "      width: 32px;\n",
              "    }\n",
              "\n",
              "    .colab-df-convert:hover {\n",
              "      background-color: #E2EBFA;\n",
              "      box-shadow: 0px 1px 2px rgba(60, 64, 67, 0.3), 0px 1px 3px 1px rgba(60, 64, 67, 0.15);\n",
              "      fill: #174EA6;\n",
              "    }\n",
              "\n",
              "    [theme=dark] .colab-df-convert {\n",
              "      background-color: #3B4455;\n",
              "      fill: #D2E3FC;\n",
              "    }\n",
              "\n",
              "    [theme=dark] .colab-df-convert:hover {\n",
              "      background-color: #434B5C;\n",
              "      box-shadow: 0px 1px 3px 1px rgba(0, 0, 0, 0.15);\n",
              "      filter: drop-shadow(0px 1px 2px rgba(0, 0, 0, 0.3));\n",
              "      fill: #FFFFFF;\n",
              "    }\n",
              "  </style>\n",
              "\n",
              "      <script>\n",
              "        const buttonEl =\n",
              "          document.querySelector('#df-0b1956d3-ee45-4840-99c5-62c09ee52065 button.colab-df-convert');\n",
              "        buttonEl.style.display =\n",
              "          google.colab.kernel.accessAllowed ? 'block' : 'none';\n",
              "\n",
              "        async function convertToInteractive(key) {\n",
              "          const element = document.querySelector('#df-0b1956d3-ee45-4840-99c5-62c09ee52065');\n",
              "          const dataTable =\n",
              "            await google.colab.kernel.invokeFunction('convertToInteractive',\n",
              "                                                     [key], {});\n",
              "          if (!dataTable) return;\n",
              "\n",
              "          const docLinkHtml = 'Like what you see? Visit the ' +\n",
              "            '<a target=\"_blank\" href=https://colab.research.google.com/notebooks/data_table.ipynb>data table notebook</a>'\n",
              "            + ' to learn more about interactive tables.';\n",
              "          element.innerHTML = '';\n",
              "          dataTable['output_type'] = 'display_data';\n",
              "          await google.colab.output.renderOutput(dataTable, element);\n",
              "          const docLink = document.createElement('div');\n",
              "          docLink.innerHTML = docLinkHtml;\n",
              "          element.appendChild(docLink);\n",
              "        }\n",
              "      </script>\n",
              "    </div>\n",
              "  </div>\n",
              "  "
            ]
          },
          "metadata": {},
          "execution_count": 70
        }
      ]
    },
    {
      "cell_type": "code",
      "source": [
        "df.dtypes"
      ],
      "metadata": {
        "colab": {
          "base_uri": "https://localhost:8080/"
        },
        "id": "6csvjmfha8rk",
        "outputId": "45c12fc7-1e4c-4edf-9718-226b799c9506"
      },
      "execution_count": null,
      "outputs": [
        {
          "output_type": "execute_result",
          "data": {
            "text/plain": [
              "Presion                   float64\n",
              "Intensidad de impactos    float64\n",
              "Tonelaje                  float64\n",
              "Velocidad                 float64\n",
              "%Solidos                  float64\n",
              "Potencia                  float64\n",
              "F80                       float64\n",
              "Brazo                     float64\n",
              "dtype: object"
            ]
          },
          "metadata": {},
          "execution_count": 71
        }
      ]
    },
    {
      "cell_type": "code",
      "source": [
        "import numpy as np\n",
        "import pandas as pd\n",
        "# eliminando columnas ID, Default\n",
        "#df.drop(['Fecha'], axis='columns', inplace=True)"
      ],
      "metadata": {
        "id": "YBpzKVIIVtnc"
      },
      "execution_count": null,
      "outputs": []
    },
    {
      "cell_type": "code",
      "source": [
        "df.columns"
      ],
      "metadata": {
        "colab": {
          "base_uri": "https://localhost:8080/"
        },
        "id": "3pYNGzF5Vvy7",
        "outputId": "8e53ead2-4df4-44bd-a269-a404d357032e"
      },
      "execution_count": null,
      "outputs": [
        {
          "output_type": "execute_result",
          "data": {
            "text/plain": [
              "Index(['Presion', 'Intensidad de impactos', 'Tonelaje', 'Velocidad',\n",
              "       '%Solidos', 'Potencia', 'F80', 'Brazo'],\n",
              "      dtype='object')"
            ]
          },
          "metadata": {},
          "execution_count": 73
        }
      ]
    },
    {
      "cell_type": "code",
      "source": [
        "# Revision descriptiva\n",
        "df.describe()"
      ],
      "metadata": {
        "colab": {
          "base_uri": "https://localhost:8080/",
          "height": 300
        },
        "id": "akmIlv6SVw28",
        "outputId": "fbd51921-1d19-455f-c0b7-36a5d90ae89d"
      },
      "execution_count": null,
      "outputs": [
        {
          "output_type": "execute_result",
          "data": {
            "text/plain": [
              "            Presion  Intensidad de impactos      Tonelaje     Velocidad  \\\n",
              "count  14375.000000            14375.000000  14375.000000  14375.000000   \n",
              "mean    6015.786763               37.356645   3363.326903      8.839000   \n",
              "std      134.324754               17.453158    537.442267      0.536565   \n",
              "min     5566.500000               13.270000      0.050000      0.010000   \n",
              "25%     5946.590000               20.570000   3092.900000      8.720000   \n",
              "50%     6032.640000               36.090000   3357.810000      8.870000   \n",
              "75%     6104.040000               52.120000   3662.140000      8.940000   \n",
              "max     6483.500000              155.670000   4547.040000      9.340000   \n",
              "\n",
              "           %Solidos      Potencia           F80         Brazo  \n",
              "count  14375.000000  14375.000000  14375.000000  14375.000000  \n",
              "mean      75.487416  11667.772478     64.747783      2.186024  \n",
              "std        7.061388   1569.146488     13.439820      0.226976  \n",
              "min        0.000000    -23.010000      7.640000     -0.820000  \n",
              "25%       74.330000  10713.705000     55.095000      2.020000  \n",
              "50%       75.980000  11353.280000     66.530000      2.160000  \n",
              "75%       77.850000  12634.270000     76.280000      2.370000  \n",
              "max       84.830000  15750.450000     91.370000      2.750000  "
            ],
            "text/html": [
              "\n",
              "  <div id=\"df-ef3c7c02-6372-41db-880b-8b0b5c30fb56\">\n",
              "    <div class=\"colab-df-container\">\n",
              "      <div>\n",
              "<style scoped>\n",
              "    .dataframe tbody tr th:only-of-type {\n",
              "        vertical-align: middle;\n",
              "    }\n",
              "\n",
              "    .dataframe tbody tr th {\n",
              "        vertical-align: top;\n",
              "    }\n",
              "\n",
              "    .dataframe thead th {\n",
              "        text-align: right;\n",
              "    }\n",
              "</style>\n",
              "<table border=\"1\" class=\"dataframe\">\n",
              "  <thead>\n",
              "    <tr style=\"text-align: right;\">\n",
              "      <th></th>\n",
              "      <th>Presion</th>\n",
              "      <th>Intensidad de impactos</th>\n",
              "      <th>Tonelaje</th>\n",
              "      <th>Velocidad</th>\n",
              "      <th>%Solidos</th>\n",
              "      <th>Potencia</th>\n",
              "      <th>F80</th>\n",
              "      <th>Brazo</th>\n",
              "    </tr>\n",
              "  </thead>\n",
              "  <tbody>\n",
              "    <tr>\n",
              "      <th>count</th>\n",
              "      <td>14375.000000</td>\n",
              "      <td>14375.000000</td>\n",
              "      <td>14375.000000</td>\n",
              "      <td>14375.000000</td>\n",
              "      <td>14375.000000</td>\n",
              "      <td>14375.000000</td>\n",
              "      <td>14375.000000</td>\n",
              "      <td>14375.000000</td>\n",
              "    </tr>\n",
              "    <tr>\n",
              "      <th>mean</th>\n",
              "      <td>6015.786763</td>\n",
              "      <td>37.356645</td>\n",
              "      <td>3363.326903</td>\n",
              "      <td>8.839000</td>\n",
              "      <td>75.487416</td>\n",
              "      <td>11667.772478</td>\n",
              "      <td>64.747783</td>\n",
              "      <td>2.186024</td>\n",
              "    </tr>\n",
              "    <tr>\n",
              "      <th>std</th>\n",
              "      <td>134.324754</td>\n",
              "      <td>17.453158</td>\n",
              "      <td>537.442267</td>\n",
              "      <td>0.536565</td>\n",
              "      <td>7.061388</td>\n",
              "      <td>1569.146488</td>\n",
              "      <td>13.439820</td>\n",
              "      <td>0.226976</td>\n",
              "    </tr>\n",
              "    <tr>\n",
              "      <th>min</th>\n",
              "      <td>5566.500000</td>\n",
              "      <td>13.270000</td>\n",
              "      <td>0.050000</td>\n",
              "      <td>0.010000</td>\n",
              "      <td>0.000000</td>\n",
              "      <td>-23.010000</td>\n",
              "      <td>7.640000</td>\n",
              "      <td>-0.820000</td>\n",
              "    </tr>\n",
              "    <tr>\n",
              "      <th>25%</th>\n",
              "      <td>5946.590000</td>\n",
              "      <td>20.570000</td>\n",
              "      <td>3092.900000</td>\n",
              "      <td>8.720000</td>\n",
              "      <td>74.330000</td>\n",
              "      <td>10713.705000</td>\n",
              "      <td>55.095000</td>\n",
              "      <td>2.020000</td>\n",
              "    </tr>\n",
              "    <tr>\n",
              "      <th>50%</th>\n",
              "      <td>6032.640000</td>\n",
              "      <td>36.090000</td>\n",
              "      <td>3357.810000</td>\n",
              "      <td>8.870000</td>\n",
              "      <td>75.980000</td>\n",
              "      <td>11353.280000</td>\n",
              "      <td>66.530000</td>\n",
              "      <td>2.160000</td>\n",
              "    </tr>\n",
              "    <tr>\n",
              "      <th>75%</th>\n",
              "      <td>6104.040000</td>\n",
              "      <td>52.120000</td>\n",
              "      <td>3662.140000</td>\n",
              "      <td>8.940000</td>\n",
              "      <td>77.850000</td>\n",
              "      <td>12634.270000</td>\n",
              "      <td>76.280000</td>\n",
              "      <td>2.370000</td>\n",
              "    </tr>\n",
              "    <tr>\n",
              "      <th>max</th>\n",
              "      <td>6483.500000</td>\n",
              "      <td>155.670000</td>\n",
              "      <td>4547.040000</td>\n",
              "      <td>9.340000</td>\n",
              "      <td>84.830000</td>\n",
              "      <td>15750.450000</td>\n",
              "      <td>91.370000</td>\n",
              "      <td>2.750000</td>\n",
              "    </tr>\n",
              "  </tbody>\n",
              "</table>\n",
              "</div>\n",
              "      <button class=\"colab-df-convert\" onclick=\"convertToInteractive('df-ef3c7c02-6372-41db-880b-8b0b5c30fb56')\"\n",
              "              title=\"Convert this dataframe to an interactive table.\"\n",
              "              style=\"display:none;\">\n",
              "        \n",
              "  <svg xmlns=\"http://www.w3.org/2000/svg\" height=\"24px\"viewBox=\"0 0 24 24\"\n",
              "       width=\"24px\">\n",
              "    <path d=\"M0 0h24v24H0V0z\" fill=\"none\"/>\n",
              "    <path d=\"M18.56 5.44l.94 2.06.94-2.06 2.06-.94-2.06-.94-.94-2.06-.94 2.06-2.06.94zm-11 1L8.5 8.5l.94-2.06 2.06-.94-2.06-.94L8.5 2.5l-.94 2.06-2.06.94zm10 10l.94 2.06.94-2.06 2.06-.94-2.06-.94-.94-2.06-.94 2.06-2.06.94z\"/><path d=\"M17.41 7.96l-1.37-1.37c-.4-.4-.92-.59-1.43-.59-.52 0-1.04.2-1.43.59L10.3 9.45l-7.72 7.72c-.78.78-.78 2.05 0 2.83L4 21.41c.39.39.9.59 1.41.59.51 0 1.02-.2 1.41-.59l7.78-7.78 2.81-2.81c.8-.78.8-2.07 0-2.86zM5.41 20L4 18.59l7.72-7.72 1.47 1.35L5.41 20z\"/>\n",
              "  </svg>\n",
              "      </button>\n",
              "      \n",
              "  <style>\n",
              "    .colab-df-container {\n",
              "      display:flex;\n",
              "      flex-wrap:wrap;\n",
              "      gap: 12px;\n",
              "    }\n",
              "\n",
              "    .colab-df-convert {\n",
              "      background-color: #E8F0FE;\n",
              "      border: none;\n",
              "      border-radius: 50%;\n",
              "      cursor: pointer;\n",
              "      display: none;\n",
              "      fill: #1967D2;\n",
              "      height: 32px;\n",
              "      padding: 0 0 0 0;\n",
              "      width: 32px;\n",
              "    }\n",
              "\n",
              "    .colab-df-convert:hover {\n",
              "      background-color: #E2EBFA;\n",
              "      box-shadow: 0px 1px 2px rgba(60, 64, 67, 0.3), 0px 1px 3px 1px rgba(60, 64, 67, 0.15);\n",
              "      fill: #174EA6;\n",
              "    }\n",
              "\n",
              "    [theme=dark] .colab-df-convert {\n",
              "      background-color: #3B4455;\n",
              "      fill: #D2E3FC;\n",
              "    }\n",
              "\n",
              "    [theme=dark] .colab-df-convert:hover {\n",
              "      background-color: #434B5C;\n",
              "      box-shadow: 0px 1px 3px 1px rgba(0, 0, 0, 0.15);\n",
              "      filter: drop-shadow(0px 1px 2px rgba(0, 0, 0, 0.3));\n",
              "      fill: #FFFFFF;\n",
              "    }\n",
              "  </style>\n",
              "\n",
              "      <script>\n",
              "        const buttonEl =\n",
              "          document.querySelector('#df-ef3c7c02-6372-41db-880b-8b0b5c30fb56 button.colab-df-convert');\n",
              "        buttonEl.style.display =\n",
              "          google.colab.kernel.accessAllowed ? 'block' : 'none';\n",
              "\n",
              "        async function convertToInteractive(key) {\n",
              "          const element = document.querySelector('#df-ef3c7c02-6372-41db-880b-8b0b5c30fb56');\n",
              "          const dataTable =\n",
              "            await google.colab.kernel.invokeFunction('convertToInteractive',\n",
              "                                                     [key], {});\n",
              "          if (!dataTable) return;\n",
              "\n",
              "          const docLinkHtml = 'Like what you see? Visit the ' +\n",
              "            '<a target=\"_blank\" href=https://colab.research.google.com/notebooks/data_table.ipynb>data table notebook</a>'\n",
              "            + ' to learn more about interactive tables.';\n",
              "          element.innerHTML = '';\n",
              "          dataTable['output_type'] = 'display_data';\n",
              "          await google.colab.output.renderOutput(dataTable, element);\n",
              "          const docLink = document.createElement('div');\n",
              "          docLink.innerHTML = docLinkHtml;\n",
              "          element.appendChild(docLink);\n",
              "        }\n",
              "      </script>\n",
              "    </div>\n",
              "  </div>\n",
              "  "
            ]
          },
          "metadata": {},
          "execution_count": 74
        }
      ]
    },
    {
      "cell_type": "code",
      "source": [
        "# Exploracion de la variable Target\n",
        "df.loc[:, \"Intensidad de impactos\"].hist()"
      ],
      "metadata": {
        "colab": {
          "base_uri": "https://localhost:8080/",
          "height": 278
        },
        "id": "ySxgyS1YV0We",
        "outputId": "7a3cb159-73f5-4c94-cf89-fbd044ccfdf0"
      },
      "execution_count": null,
      "outputs": [
        {
          "output_type": "execute_result",
          "data": {
            "text/plain": [
              "<matplotlib.axes._subplots.AxesSubplot at 0x7fef9c74a2d0>"
            ]
          },
          "metadata": {},
          "execution_count": 75
        },
        {
          "output_type": "display_data",
          "data": {
            "text/plain": [
              "<Figure size 432x288 with 1 Axes>"
            ],
            "image/png": "[encoded data removed]"
          },
          "metadata": {
            "needs_background": "light"
          }
        }
      ]
    },
    {
      "cell_type": "code",
      "source": [
        "df.loc[:, \"Tonelaje\"].hist()"
      ],
      "metadata": {
        "colab": {
          "base_uri": "https://localhost:8080/",
          "height": 278
        },
        "id": "dR2XuzNRbb1V",
        "outputId": "ffd2e7aa-5877-4578-9e17-04d146bf6adb"
      },
      "execution_count": null,
      "outputs": [
        {
          "output_type": "execute_result",
          "data": {
            "text/plain": [
              "<matplotlib.axes._subplots.AxesSubplot at 0x7fef9c729810>"
            ]
          },
          "metadata": {},
          "execution_count": 76
        },
        {
          "output_type": "display_data",
          "data": {
            "text/plain": [
              "<Figure size 432x288 with 1 Axes>"
            ],
            "image/png": "[encoded data removed]"
          },
          "metadata": {
            "needs_background": "light"
          }
        }
      ]
    },
    {
      "cell_type": "code",
      "source": [
        "ax = sns.boxplot(x=df['Intensidad de impactos'])"
      ],
      "metadata": {
        "colab": {
          "base_uri": "https://localhost:8080/",
          "height": 275
        },
        "id": "a-GIHfQWV3tl",
        "outputId": "89582563-a6d5-4937-ff4b-398daa5ebc22"
      },
      "execution_count": null,
      "outputs": [
        {
          "output_type": "display_data",
          "data": {
            "text/plain": [
              "<Figure size 432x288 with 1 Axes>"
            ],
            "image/png": "[encoded data removed]"
          },
          "metadata": {
            "needs_background": "light"
          }
        }
      ]
    },
    {
      "cell_type": "markdown",
      "source": [
        "SELECCION DE VARIABLES"
      ],
      "metadata": {
        "id": "uvJy1fvDV8Ts"
      }
    },
    {
      "cell_type": "code",
      "source": [
        "!pip install sweetviz"
      ],
      "metadata": {
        "colab": {
          "base_uri": "https://localhost:8080/"
        },
        "id": "MrgTOa_6CvGD",
        "outputId": "3961a90e-392a-4003-b618-5608594f6816"
      },
      "execution_count": null,
      "outputs": [
        {
          "output_type": "stream",
          "name": "stdout",
          "text": [
            "Looking in indexes: https://pypi.org/simple, https://us-python.pkg.dev/colab-wheels/public/simple/\n",
            "Requirement already satisfied: sweetviz in /usr/local/lib/python3.7/dist-packages (2.1.4)\n",
            "Requirement already satisfied: matplotlib>=3.1.3 in /usr/local/lib/python3.7/dist-packages (from sweetviz) (3.2.2)\n",
            "Requirement already satisfied: pandas!=1.0.0,!=1.0.1,!=1.0.2,>=0.25.3 in /usr/local/lib/python3.7/dist-packages (from sweetviz) (1.3.5)\n",
            "Requirement already satisfied: scipy>=1.3.2 in /usr/local/lib/python3.7/dist-packages (from sweetviz) (1.7.3)\n",
            "Requirement already satisfied: importlib-resources>=1.2.0 in /usr/local/lib/python3.7/dist-packages (from sweetviz) (5.7.1)\n",
            "Requirement already satisfied: tqdm>=4.43.0 in /usr/local/lib/python3.7/dist-packages (from sweetviz) (4.64.0)\n",
            "Requirement already satisfied: jinja2>=2.11.1 in /usr/local/lib/python3.7/dist-packages (from sweetviz) (2.11.3)\n",
            "Requirement already satisfied: numpy>=1.16.0 in /usr/local/lib/python3.7/dist-packages (from sweetviz) (1.21.6)\n",
            "Requirement already satisfied: zipp>=3.1.0 in /usr/local/lib/python3.7/dist-packages (from importlib-resources>=1.2.0->sweetviz) (3.8.0)\n",
            "Requirement already satisfied: MarkupSafe>=0.23 in /usr/local/lib/python3.7/dist-packages (from jinja2>=2.11.1->sweetviz) (2.0.1)\n",
            "Requirement already satisfied: python-dateutil>=2.1 in /usr/local/lib/python3.7/dist-packages (from matplotlib>=3.1.3->sweetviz) (2.8.2)\n",
            "Requirement already satisfied: cycler>=0.10 in /usr/local/lib/python3.7/dist-packages (from matplotlib>=3.1.3->sweetviz) (0.11.0)\n",
            "Requirement already satisfied: kiwisolver>=1.0.1 in /usr/local/lib/python3.7/dist-packages (from matplotlib>=3.1.3->sweetviz) (1.4.3)\n",
            "Requirement already satisfied: pyparsing!=2.0.4,!=2.1.2,!=2.1.6,>=2.0.1 in /usr/local/lib/python3.7/dist-packages (from matplotlib>=3.1.3->sweetviz) (3.0.9)\n",
            "Requirement already satisfied: typing-extensions in /usr/local/lib/python3.7/dist-packages (from kiwisolver>=1.0.1->matplotlib>=3.1.3->sweetviz) (4.1.1)\n",
            "Requirement already satisfied: pytz>=2017.3 in /usr/local/lib/python3.7/dist-packages (from pandas!=1.0.0,!=1.0.1,!=1.0.2,>=0.25.3->sweetviz) (2022.1)\n",
            "Requirement already satisfied: six>=1.5 in /usr/local/lib/python3.7/dist-packages (from python-dateutil>=2.1->matplotlib>=3.1.3->sweetviz) (1.15.0)\n"
          ]
        }
      ]
    },
    {
      "cell_type": "code",
      "source": [
        "import sweetviz as sv\n",
        "my_report = sv.analyze(df)\n",
        "my_report.show_html()"
      ],
      "metadata": {
        "colab": {
          "base_uri": "https://localhost:8080/",
          "height": 66,
          "referenced_widgets": [
            "d52e57c868c4442396688c40f6ce1ccf",
            "5bfd0d5c71ab4700b5a7c828887ecd40",
            "3b107bc3aa8741789079932a5a3ea66b",
            "b277e32d079344ecb32486abc1997f1c",
            "9d99f7da549f49afbc4a86e428147270",
            "2ee8429fe8644cc4bf4383926e4fd663",
            "cae31e9d65434a74b4a06123ff3e688c",
            "962236cced8643ca89ab6fed549787b1",
            "ebe5322e80564da4be8eaa6683fef0fe",
            "4e454c099f0048cc86c18165ed5d760a",
            "e6f26b83fe194490afb622bbf85cbb40"
          ]
        },
        "id": "V7k-1C4JCxTD",
        "outputId": "131e5294-69ca-4359-8ed4-a36cbf071d4c"
      },
      "execution_count": null,
      "outputs": [
        {
          "output_type": "display_data",
          "data": {
            "text/plain": [
              "                                             |          | [  0%]   00:00 -> (? left)"
            ],
            "application/vnd.jupyter.widget-view+json": {
              "version_major": 2,
              "version_minor": 0,
              "model_id": "d52e57c868c4442396688c40f6ce1ccf"
            }
          },
          "metadata": {}
        },
        {
          "output_type": "stream",
          "name": "stdout",
          "text": [
            "Report SWEETVIZ_REPORT.html was generated! NOTEBOOK/COLAB USERS: the web browser MAY not pop up, regardless, the report IS saved in your notebook/colab files.\n"
          ]
        }
      ]
    },
    {
      "cell_type": "code",
      "source": [
        "#1. Analisis de Correlaciones de Pearson\n",
        "corr_mat=df.corr(method='pearson')\n",
        "plt.figure(figsize=(20,10))\n",
        "sns.heatmap(corr_mat,vmax=1,square=True,annot=True,cmap='cubehelix')"
      ],
      "metadata": {
        "colab": {
          "base_uri": "https://localhost:8080/",
          "height": 832
        },
        "id": "ZvJ1psevC3EC",
        "outputId": "d815906d-9c11-4898-c75e-68adc3330a9b"
      },
      "execution_count": null,
      "outputs": [
        {
          "output_type": "execute_result",
          "data": {
            "text/plain": [
              "<matplotlib.axes._subplots.AxesSubplot at 0x7fef9ae51850>"
            ]
          },
          "metadata": {},
          "execution_count": 80
        },
        {
          "output_type": "display_data",
          "data": {
            "text/plain": [
              "<Figure size 2000x1000 with 2 Axes>"
            ],
            "image/png": "[encoded data removed]"
          },
          "metadata": {}
        }
      ]
    },
    {
      "cell_type": "code",
      "source": [
        "# La variable más correlacionada\n",
        "import seaborn as sns\n",
        "sns.regplot(x=df[\"Potencia\"], y=df[\"Intensidad de impactos\"])"
      ],
      "metadata": {
        "colab": {
          "base_uri": "https://localhost:8080/",
          "height": 395
        },
        "id": "4zPvB-XoGqsB",
        "outputId": "aaf9ff60-2377-4f2a-9a69-01311b85fa37"
      },
      "execution_count": null,
      "outputs": [
        {
          "output_type": "execute_result",
          "data": {
            "text/plain": [
              "<matplotlib.axes._subplots.AxesSubplot at 0x7fefa1fcf410>"
            ]
          },
          "metadata": {},
          "execution_count": 81
        },
        {
          "output_type": "display_data",
          "data": {
            "text/plain": [
              "<Figure size 600x400 with 1 Axes>"
            ],
            "image/png": "[encoded data removed]"
          },
          "metadata": {}
        }
      ]
    },
    {
      "cell_type": "code",
      "source": [
        "# La variable menos correlacionada\n",
        "import seaborn as sns\n",
        "sns.regplot(x=df[\"Tonelaje\"], y=df[\"Intensidad de impactos\"])"
      ],
      "metadata": {
        "colab": {
          "base_uri": "https://localhost:8080/",
          "height": 395
        },
        "id": "taTRzgymGwMh",
        "outputId": "02d25716-2045-4b1e-a411-f143d250c143"
      },
      "execution_count": null,
      "outputs": [
        {
          "output_type": "execute_result",
          "data": {
            "text/plain": [
              "<matplotlib.axes._subplots.AxesSubplot at 0x7fef9b681cd0>"
            ]
          },
          "metadata": {},
          "execution_count": 82
        },
        {
          "output_type": "display_data",
          "data": {
            "text/plain": [
              "<Figure size 600x400 with 1 Axes>"
            ],
            "image/png": "[encoded data removed]"
          },
          "metadata": {}
        }
      ]
    },
    {
      "cell_type": "code",
      "source": [
        "target_col = \"Intensidad de impactos\""
      ],
      "metadata": {
        "id": "ZR4NUOn7Gz7R"
      },
      "execution_count": null,
      "outputs": []
    },
    {
      "cell_type": "code",
      "source": [
        "# Definicion de variables de estudio\n",
        "X = df.loc[:, df.columns != target_col]\n",
        "y = df.loc[:, target_col]"
      ],
      "metadata": {
        "id": "fryamGt_G4B6"
      },
      "execution_count": null,
      "outputs": []
    },
    {
      "cell_type": "code",
      "source": [
        "df.shape"
      ],
      "metadata": {
        "colab": {
          "base_uri": "https://localhost:8080/"
        },
        "id": "TA3QzhjHHBvS",
        "outputId": "f54022ec-3e41-4b6f-c4ff-d984c4607f80"
      },
      "execution_count": null,
      "outputs": [
        {
          "output_type": "execute_result",
          "data": {
            "text/plain": [
              "(14375, 8)"
            ]
          },
          "metadata": {},
          "execution_count": 85
        }
      ]
    },
    {
      "cell_type": "code",
      "source": [
        "X.shape"
      ],
      "metadata": {
        "colab": {
          "base_uri": "https://localhost:8080/"
        },
        "id": "CCp-BDkoHDeR",
        "outputId": "e1b37e6a-0e19-4d28-b9b8-cd615ed95f44"
      },
      "execution_count": null,
      "outputs": [
        {
          "output_type": "execute_result",
          "data": {
            "text/plain": [
              "(14375, 7)"
            ]
          },
          "metadata": {},
          "execution_count": 86
        }
      ]
    },
    {
      "cell_type": "code",
      "source": [
        "y.shape"
      ],
      "metadata": {
        "colab": {
          "base_uri": "https://localhost:8080/"
        },
        "id": "BnjYzeExHGOp",
        "outputId": "ccd31310-1e1d-4147-e376-1641024963af"
      },
      "execution_count": null,
      "outputs": [
        {
          "output_type": "execute_result",
          "data": {
            "text/plain": [
              "(14375,)"
            ]
          },
          "metadata": {},
          "execution_count": 87
        }
      ]
    },
    {
      "cell_type": "markdown",
      "source": [
        "MUESTREO DE DATOS"
      ],
      "metadata": {
        "id": "rUUfPa-1HIns"
      }
    },
    {
      "cell_type": "code",
      "source": [
        "# realizamos una selección de muestra ENTRENAMIENTO Y VALIDACION aletoria y comparables muestras, con \n",
        "#fines de validar el aprendizaje de nuestro modelo\n",
        "X_train, X_test, y_train, y_test = train_test_split(X, y, \n",
        "                                                    test_size=0.30, \n",
        "                                                    random_state=42)"
      ],
      "metadata": {
        "id": "btMQeQ_wHTGk"
      },
      "execution_count": null,
      "outputs": []
    },
    {
      "cell_type": "code",
      "source": [
        "X_train.shape"
      ],
      "metadata": {
        "colab": {
          "base_uri": "https://localhost:8080/"
        },
        "id": "DibOSeRtHYiS",
        "outputId": "84546ca2-cc96-4f43-bb42-95bce559940f"
      },
      "execution_count": null,
      "outputs": [
        {
          "output_type": "execute_result",
          "data": {
            "text/plain": [
              "(10062, 7)"
            ]
          },
          "metadata": {},
          "execution_count": 89
        }
      ]
    },
    {
      "cell_type": "code",
      "source": [
        "X_test.shape"
      ],
      "metadata": {
        "colab": {
          "base_uri": "https://localhost:8080/"
        },
        "id": "55_TqmnKHan5",
        "outputId": "107f01e4-1f99-4709-bbe2-b7a61b5f73eb"
      },
      "execution_count": null,
      "outputs": [
        {
          "output_type": "execute_result",
          "data": {
            "text/plain": [
              "(4313, 7)"
            ]
          },
          "metadata": {},
          "execution_count": 90
        }
      ]
    },
    {
      "cell_type": "markdown",
      "source": [
        "MODELAMIENTO DE DATOS"
      ],
      "metadata": {
        "id": "bden-Q-iHjRZ"
      }
    },
    {
      "cell_type": "code",
      "source": [
        "X_with_constant = sm.add_constant(X_train)\n",
        "# OLS: Ordinary Least Square (Minimos Cuadrados Ordinarios)\n",
        "model = sm.OLS(y_train, X_with_constant)"
      ],
      "metadata": {
        "id": "fANW79-UHl3s"
      },
      "execution_count": null,
      "outputs": []
    },
    {
      "cell_type": "code",
      "source": [
        "X_with_constant"
      ],
      "metadata": {
        "colab": {
          "base_uri": "https://localhost:8080/",
          "height": 424
        },
        "id": "G5Y48NcTHvwR",
        "outputId": "18ccc69f-e212-42d7-a494-5581224f48e9"
      },
      "execution_count": null,
      "outputs": [
        {
          "output_type": "execute_result",
          "data": {
            "text/plain": [
              "       const  Presion  Tonelaje  Velocidad  %Solidos  Potencia    F80  Brazo\n",
              "9601     1.0  6096.08   3556.46       8.75     75.44  10549.28  73.47   1.98\n",
              "10832    1.0  6148.50   4024.57       8.92     74.33  12068.26  59.46   2.21\n",
              "10414    1.0  6009.57   3386.79       8.97     77.74  13504.70  60.74   2.50\n",
              "10330    1.0  6054.93   3773.72       9.18     74.30  14215.22  80.32   2.56\n",
              "2369     1.0  6079.42   3035.44       9.33     73.41  14357.92  76.13   2.53\n",
              "...      ...      ...       ...        ...       ...       ...    ...    ...\n",
              "6104     1.0  6049.42   3823.86       8.72     77.00  10598.25  55.30   2.00\n",
              "14463    1.0  6044.22   3708.03       8.72     76.88  10626.20  74.67   2.02\n",
              "6310     1.0  6069.04   3409.30       8.93     76.84  11188.53  73.65   2.07\n",
              "1541     1.0  6104.08   3721.55       8.78     77.38  10840.62  68.22   2.04\n",
              "8251     1.0  6091.80   3494.12       8.75     75.01  10695.60  73.91   1.99\n",
              "\n",
              "[10062 rows x 8 columns]"
            ],
            "text/html": [
              "\n",
              "  <div id=\"df-1da4b854-f406-405a-9660-1472d97e754d\">\n",
              "    <div class=\"colab-df-container\">\n",
              "      <div>\n",
              "<style scoped>\n",
              "    .dataframe tbody tr th:only-of-type {\n",
              "        vertical-align: middle;\n",
              "    }\n",
              "\n",
              "    .dataframe tbody tr th {\n",
              "        vertical-align: top;\n",
              "    }\n",
              "\n",
              "    .dataframe thead th {\n",
              "        text-align: right;\n",
              "    }\n",
              "</style>\n",
              "<table border=\"1\" class=\"dataframe\">\n",
              "  <thead>\n",
              "    <tr style=\"text-align: right;\">\n",
              "      <th></th>\n",
              "      <th>const</th>\n",
              "      <th>Presion</th>\n",
              "      <th>Tonelaje</th>\n",
              "      <th>Velocidad</th>\n",
              "      <th>%Solidos</th>\n",
              "      <th>Potencia</th>\n",
              "      <th>F80</th>\n",
              "      <th>Brazo</th>\n",
              "    </tr>\n",
              "  </thead>\n",
              "  <tbody>\n",
              "    <tr>\n",
              "      <th>9601</th>\n",
              "      <td>1.0</td>\n",
              "      <td>6096.08</td>\n",
              "      <td>3556.46</td>\n",
              "      <td>8.75</td>\n",
              "      <td>75.44</td>\n",
              "      <td>10549.28</td>\n",
              "      <td>73.47</td>\n",
              "      <td>1.98</td>\n",
              "    </tr>\n",
              "    <tr>\n",
              "      <th>10832</th>\n",
              "      <td>1.0</td>\n",
              "      <td>6148.50</td>\n",
              "      <td>4024.57</td>\n",
              "      <td>8.92</td>\n",
              "      <td>74.33</td>\n",
              "      <td>12068.26</td>\n",
              "      <td>59.46</td>\n",
              "      <td>2.21</td>\n",
              "    </tr>\n",
              "    <tr>\n",
              "      <th>10414</th>\n",
              "      <td>1.0</td>\n",
              "      <td>6009.57</td>\n",
              "      <td>3386.79</td>\n",
              "      <td>8.97</td>\n",
              "      <td>77.74</td>\n",
              "      <td>13504.70</td>\n",
              "      <td>60.74</td>\n",
              "      <td>2.50</td>\n",
              "    </tr>\n",
              "    <tr>\n",
              "      <th>10330</th>\n",
              "      <td>1.0</td>\n",
              "      <td>6054.93</td>\n",
              "      <td>3773.72</td>\n",
              "      <td>9.18</td>\n",
              "      <td>74.30</td>\n",
              "      <td>14215.22</td>\n",
              "      <td>80.32</td>\n",
              "      <td>2.56</td>\n",
              "    </tr>\n",
              "    <tr>\n",
              "      <th>2369</th>\n",
              "      <td>1.0</td>\n",
              "      <td>6079.42</td>\n",
              "      <td>3035.44</td>\n",
              "      <td>9.33</td>\n",
              "      <td>73.41</td>\n",
              "      <td>14357.92</td>\n",
              "      <td>76.13</td>\n",
              "      <td>2.53</td>\n",
              "    </tr>\n",
              "    <tr>\n",
              "      <th>...</th>\n",
              "      <td>...</td>\n",
              "      <td>...</td>\n",
              "      <td>...</td>\n",
              "      <td>...</td>\n",
              "      <td>...</td>\n",
              "      <td>...</td>\n",
              "      <td>...</td>\n",
              "      <td>...</td>\n",
              "    </tr>\n",
              "    <tr>\n",
              "      <th>6104</th>\n",
              "      <td>1.0</td>\n",
              "      <td>6049.42</td>\n",
              "      <td>3823.86</td>\n",
              "      <td>8.72</td>\n",
              "      <td>77.00</td>\n",
              "      <td>10598.25</td>\n",
              "      <td>55.30</td>\n",
              "      <td>2.00</td>\n",
              "    </tr>\n",
              "    <tr>\n",
              "      <th>14463</th>\n",
              "      <td>1.0</td>\n",
              "      <td>6044.22</td>\n",
              "      <td>3708.03</td>\n",
              "      <td>8.72</td>\n",
              "      <td>76.88</td>\n",
              "      <td>10626.20</td>\n",
              "      <td>74.67</td>\n",
              "      <td>2.02</td>\n",
              "    </tr>\n",
              "    <tr>\n",
              "      <th>6310</th>\n",
              "      <td>1.0</td>\n",
              "      <td>6069.04</td>\n",
              "      <td>3409.30</td>\n",
              "      <td>8.93</td>\n",
              "      <td>76.84</td>\n",
              "      <td>11188.53</td>\n",
              "      <td>73.65</td>\n",
              "      <td>2.07</td>\n",
              "    </tr>\n",
              "    <tr>\n",
              "      <th>1541</th>\n",
              "      <td>1.0</td>\n",
              "      <td>6104.08</td>\n",
              "      <td>3721.55</td>\n",
              "      <td>8.78</td>\n",
              "      <td>77.38</td>\n",
              "      <td>10840.62</td>\n",
              "      <td>68.22</td>\n",
              "      <td>2.04</td>\n",
              "    </tr>\n",
              "    <tr>\n",
              "      <th>8251</th>\n",
              "      <td>1.0</td>\n",
              "      <td>6091.80</td>\n",
              "      <td>3494.12</td>\n",
              "      <td>8.75</td>\n",
              "      <td>75.01</td>\n",
              "      <td>10695.60</td>\n",
              "      <td>73.91</td>\n",
              "      <td>1.99</td>\n",
              "    </tr>\n",
              "  </tbody>\n",
              "</table>\n",
              "<p>10062 rows × 8 columns</p>\n",
              "</div>\n",
              "      <button class=\"colab-df-convert\" onclick=\"convertToInteractive('df-1da4b854-f406-405a-9660-1472d97e754d')\"\n",
              "              title=\"Convert this dataframe to an interactive table.\"\n",
              "              style=\"display:none;\">\n",
              "        \n",
              "  <svg xmlns=\"http://www.w3.org/2000/svg\" height=\"24px\"viewBox=\"0 0 24 24\"\n",
              "       width=\"24px\">\n",
              "    <path d=\"M0 0h24v24H0V0z\" fill=\"none\"/>\n",
              "    <path d=\"M18.56 5.44l.94 2.06.94-2.06 2.06-.94-2.06-.94-.94-2.06-.94 2.06-2.06.94zm-11 1L8.5 8.5l.94-2.06 2.06-.94-2.06-.94L8.5 2.5l-.94 2.06-2.06.94zm10 10l.94 2.06.94-2.06 2.06-.94-2.06-.94-.94-2.06-.94 2.06-2.06.94z\"/><path d=\"M17.41 7.96l-1.37-1.37c-.4-.4-.92-.59-1.43-.59-.52 0-1.04.2-1.43.59L10.3 9.45l-7.72 7.72c-.78.78-.78 2.05 0 2.83L4 21.41c.39.39.9.59 1.41.59.51 0 1.02-.2 1.41-.59l7.78-7.78 2.81-2.81c.8-.78.8-2.07 0-2.86zM5.41 20L4 18.59l7.72-7.72 1.47 1.35L5.41 20z\"/>\n",
              "  </svg>\n",
              "      </button>\n",
              "      \n",
              "  <style>\n",
              "    .colab-df-container {\n",
              "      display:flex;\n",
              "      flex-wrap:wrap;\n",
              "      gap: 12px;\n",
              "    }\n",
              "\n",
              "    .colab-df-convert {\n",
              "      background-color: #E8F0FE;\n",
              "      border: none;\n",
              "      border-radius: 50%;\n",
              "      cursor: pointer;\n",
              "      display: none;\n",
              "      fill: #1967D2;\n",
              "      height: 32px;\n",
              "      padding: 0 0 0 0;\n",
              "      width: 32px;\n",
              "    }\n",
              "\n",
              "    .colab-df-convert:hover {\n",
              "      background-color: #E2EBFA;\n",
              "      box-shadow: 0px 1px 2px rgba(60, 64, 67, 0.3), 0px 1px 3px 1px rgba(60, 64, 67, 0.15);\n",
              "      fill: #174EA6;\n",
              "    }\n",
              "\n",
              "    [theme=dark] .colab-df-convert {\n",
              "      background-color: #3B4455;\n",
              "      fill: #D2E3FC;\n",
              "    }\n",
              "\n",
              "    [theme=dark] .colab-df-convert:hover {\n",
              "      background-color: #434B5C;\n",
              "      box-shadow: 0px 1px 3px 1px rgba(0, 0, 0, 0.15);\n",
              "      filter: drop-shadow(0px 1px 2px rgba(0, 0, 0, 0.3));\n",
              "      fill: #FFFFFF;\n",
              "    }\n",
              "  </style>\n",
              "\n",
              "      <script>\n",
              "        const buttonEl =\n",
              "          document.querySelector('#df-1da4b854-f406-405a-9660-1472d97e754d button.colab-df-convert');\n",
              "        buttonEl.style.display =\n",
              "          google.colab.kernel.accessAllowed ? 'block' : 'none';\n",
              "\n",
              "        async function convertToInteractive(key) {\n",
              "          const element = document.querySelector('#df-1da4b854-f406-405a-9660-1472d97e754d');\n",
              "          const dataTable =\n",
              "            await google.colab.kernel.invokeFunction('convertToInteractive',\n",
              "                                                     [key], {});\n",
              "          if (!dataTable) return;\n",
              "\n",
              "          const docLinkHtml = 'Like what you see? Visit the ' +\n",
              "            '<a target=\"_blank\" href=https://colab.research.google.com/notebooks/data_table.ipynb>data table notebook</a>'\n",
              "            + ' to learn more about interactive tables.';\n",
              "          element.innerHTML = '';\n",
              "          dataTable['output_type'] = 'display_data';\n",
              "          await google.colab.output.renderOutput(dataTable, element);\n",
              "          const docLink = document.createElement('div');\n",
              "          docLink.innerHTML = docLinkHtml;\n",
              "          element.appendChild(docLink);\n",
              "        }\n",
              "      </script>\n",
              "    </div>\n",
              "  </div>\n",
              "  "
            ]
          },
          "metadata": {},
          "execution_count": 92
        }
      ]
    },
    {
      "cell_type": "code",
      "source": [
        "# Parametro del modelo lineal conseguido\n",
        "# Ejecutar 2 veces en caso de necesitar mas iteraciones\n",
        "# fit: entrenar / predict: predecir\n",
        "results = model.fit()\n",
        "results.params"
      ],
      "metadata": {
        "colab": {
          "base_uri": "https://localhost:8080/"
        },
        "id": "XLY7cxw7Hxmp",
        "outputId": "247eeb97-0c87-49ca-b11a-81e55da3b617"
      },
      "execution_count": null,
      "outputs": [
        {
          "output_type": "execute_result",
          "data": {
            "text/plain": [
              "const       -386.801251\n",
              "Presion        0.076637\n",
              "Tonelaje      -0.015518\n",
              "Velocidad     20.337382\n",
              "%Solidos      -0.067506\n",
              "Potencia      -0.010244\n",
              "F80           -0.015235\n",
              "Brazo        -17.745614\n",
              "dtype: float64"
            ]
          },
          "metadata": {},
          "execution_count": 93
        }
      ]
    },
    {
      "cell_type": "code",
      "source": [
        "print(results.mse_model)\n",
        "print(results.mse_resid)\n",
        "print(results.mse_model/results.mse_resid)\n",
        "results.fvalue"
      ],
      "metadata": {
        "colab": {
          "base_uri": "https://localhost:8080/"
        },
        "id": "16wPfCxaH2vd",
        "outputId": "5f5355db-fe35-4bc9-9b4a-833725744243"
      },
      "execution_count": null,
      "outputs": [
        {
          "output_type": "stream",
          "name": "stdout",
          "text": [
            "318162.2005279167\n",
            "85.89422919885978\n",
            "3704.116137899288\n"
          ]
        },
        {
          "output_type": "execute_result",
          "data": {
            "text/plain": [
              "3704.116137899288"
            ]
          },
          "metadata": {},
          "execution_count": 94
        }
      ]
    },
    {
      "cell_type": "markdown",
      "source": [
        "EVALUACION DE DATOS"
      ],
      "metadata": {
        "id": "WocAsFvRjIe-"
      }
    },
    {
      "cell_type": "code",
      "source": [
        "# Resultado de nuestro modelamiento lineal\n",
        "results.summary()"
      ],
      "metadata": {
        "colab": {
          "base_uri": "https://localhost:8080/",
          "height": 614
        },
        "id": "6rhdoRpDIDBh",
        "outputId": "22cb7a65-3dea-49e6-f54e-28d5e545c62f"
      },
      "execution_count": null,
      "outputs": [
        {
          "output_type": "execute_result",
          "data": {
            "text/plain": [
              "<class 'statsmodels.iolib.summary.Summary'>\n",
              "\"\"\"\n",
              "                              OLS Regression Results                              \n",
              "==================================================================================\n",
              "Dep. Variable:     Intensidad de impactos   R-squared:                       0.721\n",
              "Model:                                OLS   Adj. R-squared:                  0.720\n",
              "Method:                     Least Squares   F-statistic:                     3704.\n",
              "Date:                    Sat, 09 Jul 2022   Prob (F-statistic):               0.00\n",
              "Time:                            00:03:00   Log-Likelihood:                -36677.\n",
              "No. Observations:                   10062   AIC:                         7.337e+04\n",
              "Df Residuals:                       10054   BIC:                         7.343e+04\n",
              "Df Model:                               7                                         \n",
              "Covariance Type:                nonrobust                                         \n",
              "==============================================================================\n",
              "                 coef    std err          t      P>|t|      [0.025      0.975]\n",
              "------------------------------------------------------------------------------\n",
              "const       -386.8013      6.735    -57.435      0.000    -400.002    -373.600\n",
              "Presion        0.0766      0.001     83.853      0.000       0.075       0.078\n",
              "Tonelaje      -0.0155      0.000    -66.189      0.000      -0.016      -0.015\n",
              "Velocidad     20.3374      0.355     57.282      0.000      19.641      21.033\n",
              "%Solidos      -0.0675      0.021     -3.179      0.001      -0.109      -0.026\n",
              "Potencia      -0.0102      0.000    -35.347      0.000      -0.011      -0.010\n",
              "F80           -0.0152      0.008     -1.822      0.069      -0.032       0.001\n",
              "Brazo        -17.7456      1.611    -11.018      0.000     -20.903     -14.588\n",
              "==============================================================================\n",
              "Omnibus:                     2007.221   Durbin-Watson:                   2.017\n",
              "Prob(Omnibus):                  0.000   Jarque-Bera (JB):            25376.349\n",
              "Skew:                          -0.591   Prob(JB):                         0.00\n",
              "Kurtosis:                      10.690   Cond. No.                     1.01e+06\n",
              "==============================================================================\n",
              "\n",
              "Warnings:\n",
              "[1] Standard Errors assume that the covariance matrix of the errors is correctly specified.\n",
              "[2] The condition number is large, 1.01e+06. This might indicate that there are\n",
              "strong multicollinearity or other numerical problems.\n",
              "\"\"\""
            ],
            "text/html": [
              "<table class=\"simpletable\">\n",
              "<caption>OLS Regression Results</caption>\n",
              "<tr>\n",
              "  <th>Dep. Variable:</th>    <td>Intensidad de impactos</td> <th>  R-squared:         </th> <td>   0.721</td> \n",
              "</tr>\n",
              "<tr>\n",
              "  <th>Model:</th>                      <td>OLS</td>          <th>  Adj. R-squared:    </th> <td>   0.720</td> \n",
              "</tr>\n",
              "<tr>\n",
              "  <th>Method:</th>                <td>Least Squares</td>     <th>  F-statistic:       </th> <td>   3704.</td> \n",
              "</tr>\n",
              "<tr>\n",
              "  <th>Date:</th>                <td>Sat, 09 Jul 2022</td>    <th>  Prob (F-statistic):</th>  <td>  0.00</td>  \n",
              "</tr>\n",
              "<tr>\n",
              "  <th>Time:</th>                    <td>00:03:00</td>        <th>  Log-Likelihood:    </th> <td> -36677.</td> \n",
              "</tr>\n",
              "<tr>\n",
              "  <th>No. Observations:</th>         <td> 10062</td>         <th>  AIC:               </th> <td>7.337e+04</td>\n",
              "</tr>\n",
              "<tr>\n",
              "  <th>Df Residuals:</th>             <td> 10054</td>         <th>  BIC:               </th> <td>7.343e+04</td>\n",
              "</tr>\n",
              "<tr>\n",
              "  <th>Df Model:</th>                 <td>     7</td>         <th>                     </th>     <td> </td>    \n",
              "</tr>\n",
              "<tr>\n",
              "  <th>Covariance Type:</th>         <td>nonrobust</td>       <th>                     </th>     <td> </td>    \n",
              "</tr>\n",
              "</table>\n",
              "<table class=\"simpletable\">\n",
              "<tr>\n",
              "      <td></td>         <th>coef</th>     <th>std err</th>      <th>t</th>      <th>P>|t|</th>  <th>[0.025</th>    <th>0.975]</th>  \n",
              "</tr>\n",
              "<tr>\n",
              "  <th>const</th>     <td> -386.8013</td> <td>    6.735</td> <td>  -57.435</td> <td> 0.000</td> <td> -400.002</td> <td> -373.600</td>\n",
              "</tr>\n",
              "<tr>\n",
              "  <th>Presion</th>   <td>    0.0766</td> <td>    0.001</td> <td>   83.853</td> <td> 0.000</td> <td>    0.075</td> <td>    0.078</td>\n",
              "</tr>\n",
              "<tr>\n",
              "  <th>Tonelaje</th>  <td>   -0.0155</td> <td>    0.000</td> <td>  -66.189</td> <td> 0.000</td> <td>   -0.016</td> <td>   -0.015</td>\n",
              "</tr>\n",
              "<tr>\n",
              "  <th>Velocidad</th> <td>   20.3374</td> <td>    0.355</td> <td>   57.282</td> <td> 0.000</td> <td>   19.641</td> <td>   21.033</td>\n",
              "</tr>\n",
              "<tr>\n",
              "  <th>%Solidos</th>  <td>   -0.0675</td> <td>    0.021</td> <td>   -3.179</td> <td> 0.001</td> <td>   -0.109</td> <td>   -0.026</td>\n",
              "</tr>\n",
              "<tr>\n",
              "  <th>Potencia</th>  <td>   -0.0102</td> <td>    0.000</td> <td>  -35.347</td> <td> 0.000</td> <td>   -0.011</td> <td>   -0.010</td>\n",
              "</tr>\n",
              "<tr>\n",
              "  <th>F80</th>       <td>   -0.0152</td> <td>    0.008</td> <td>   -1.822</td> <td> 0.069</td> <td>   -0.032</td> <td>    0.001</td>\n",
              "</tr>\n",
              "<tr>\n",
              "  <th>Brazo</th>     <td>  -17.7456</td> <td>    1.611</td> <td>  -11.018</td> <td> 0.000</td> <td>  -20.903</td> <td>  -14.588</td>\n",
              "</tr>\n",
              "</table>\n",
              "<table class=\"simpletable\">\n",
              "<tr>\n",
              "  <th>Omnibus:</th>       <td>2007.221</td> <th>  Durbin-Watson:     </th> <td>   2.017</td> \n",
              "</tr>\n",
              "<tr>\n",
              "  <th>Prob(Omnibus):</th>  <td> 0.000</td>  <th>  Jarque-Bera (JB):  </th> <td>25376.349</td>\n",
              "</tr>\n",
              "<tr>\n",
              "  <th>Skew:</th>           <td>-0.591</td>  <th>  Prob(JB):          </th> <td>    0.00</td> \n",
              "</tr>\n",
              "<tr>\n",
              "  <th>Kurtosis:</th>       <td>10.690</td>  <th>  Cond. No.          </th> <td>1.01e+06</td> \n",
              "</tr>\n",
              "</table><br/><br/>Warnings:<br/>[1] Standard Errors assume that the covariance matrix of the errors is correctly specified.<br/>[2] The condition number is large, 1.01e+06. This might indicate that there are<br/>strong multicollinearity or other numerical problems."
            ]
          },
          "metadata": {},
          "execution_count": 95
        }
      ]
    },
    {
      "cell_type": "code",
      "source": [
        "# Hipotesis nula: no es un regresor\n",
        "# Hipotesis alternativa\n",
        "\n",
        "# si tenemos un valor p-value <= 5% rechazamos la Hipotesis nula\n",
        "# si tenemos un valor p-value > 5% aceptamos la hipotesis nula"
      ],
      "metadata": {
        "id": "nVaneIuVILLZ"
      },
      "execution_count": null,
      "outputs": []
    },
    {
      "cell_type": "markdown",
      "source": [
        "Survival Estimator"
      ],
      "metadata": {
        "id": "pX3XvutgYc3i"
      }
    },
    {
      "cell_type": "code",
      "source": [
        "pip install lifelines"
      ],
      "metadata": {
        "colab": {
          "base_uri": "https://localhost:8080/"
        },
        "id": "7gPXAWgLfl4f",
        "outputId": "dd0f0086-20ea-426e-8558-cc72c861f36e"
      },
      "execution_count": null,
      "outputs": [
        {
          "output_type": "stream",
          "name": "stdout",
          "text": [
            "Looking in indexes: https://pypi.org/simple, https://us-python.pkg.dev/colab-wheels/public/simple/\n",
            "Requirement already satisfied: lifelines in /usr/local/lib/python3.7/dist-packages (0.27.1)\n",
            "Requirement already satisfied: pandas>=1.0.0 in /usr/local/lib/python3.7/dist-packages (from lifelines) (1.3.5)\n",
            "Requirement already satisfied: numpy>=1.14.0 in /usr/local/lib/python3.7/dist-packages (from lifelines) (1.21.6)\n",
            "Requirement already satisfied: autograd-gamma>=0.3 in /usr/local/lib/python3.7/dist-packages (from lifelines) (0.5.0)\n",
            "Requirement already satisfied: matplotlib>=3.0 in /usr/local/lib/python3.7/dist-packages (from lifelines) (3.2.2)\n",
            "Requirement already satisfied: autograd>=1.3 in /usr/local/lib/python3.7/dist-packages (from lifelines) (1.4)\n",
            "Requirement already satisfied: scipy>=1.2.0 in /usr/local/lib/python3.7/dist-packages (from lifelines) (1.7.3)\n",
            "Requirement already satisfied: formulaic>=0.2.2 in /usr/local/lib/python3.7/dist-packages (from lifelines) (0.3.4)\n",
            "Requirement already satisfied: future>=0.15.2 in /usr/local/lib/python3.7/dist-packages (from autograd>=1.3->lifelines) (0.16.0)\n",
            "Requirement already satisfied: wrapt>=1.0 in /usr/local/lib/python3.7/dist-packages (from formulaic>=0.2.2->lifelines) (1.14.1)\n",
            "Requirement already satisfied: interface-meta<2.0.0,>=1.2.0 in /usr/local/lib/python3.7/dist-packages (from formulaic>=0.2.2->lifelines) (1.3.0)\n",
            "Requirement already satisfied: astor>=0.8 in /usr/local/lib/python3.7/dist-packages (from formulaic>=0.2.2->lifelines) (0.8.1)\n",
            "Requirement already satisfied: kiwisolver>=1.0.1 in /usr/local/lib/python3.7/dist-packages (from matplotlib>=3.0->lifelines) (1.4.3)\n",
            "Requirement already satisfied: python-dateutil>=2.1 in /usr/local/lib/python3.7/dist-packages (from matplotlib>=3.0->lifelines) (2.8.2)\n",
            "Requirement already satisfied: pyparsing!=2.0.4,!=2.1.2,!=2.1.6,>=2.0.1 in /usr/local/lib/python3.7/dist-packages (from matplotlib>=3.0->lifelines) (3.0.9)\n",
            "Requirement already satisfied: cycler>=0.10 in /usr/local/lib/python3.7/dist-packages (from matplotlib>=3.0->lifelines) (0.11.0)\n",
            "Requirement already satisfied: typing-extensions in /usr/local/lib/python3.7/dist-packages (from kiwisolver>=1.0.1->matplotlib>=3.0->lifelines) (4.1.1)\n",
            "Requirement already satisfied: pytz>=2017.3 in /usr/local/lib/python3.7/dist-packages (from pandas>=1.0.0->lifelines) (2022.1)\n",
            "Requirement already satisfied: six>=1.5 in /usr/local/lib/python3.7/dist-packages (from python-dateutil>=2.1->matplotlib>=3.0->lifelines) (1.15.0)\n"
          ]
        }
      ]
    },
    {
      "cell_type": "code",
      "source": [
        "from lifelines import KaplanMeierFitter\n",
        "from lifelines.datasets import load_waltons\n",
        "kmf = KaplanMeierFitter()\n",
        "\n",
        "T = df.Presion\n",
        "E = df.Velocidad\n",
        "kmf.fit(T,E)\n",
        "kmf.survival_function_.plot()\n",
        "plt.title('Survival Curve')"
      ],
      "metadata": {
        "colab": {
          "base_uri": "https://localhost:8080/",
          "height": 415
        },
        "id": "EAbyNXeVY896",
        "outputId": "194cacba-b73e-4637-959f-5157e6b22a13"
      },
      "execution_count": null,
      "outputs": [
        {
          "output_type": "execute_result",
          "data": {
            "text/plain": [
              "Text(0.5, 1.0, 'Survival Curve')"
            ]
          },
          "metadata": {},
          "execution_count": 98
        },
        {
          "output_type": "display_data",
          "data": {
            "text/plain": [
              "<Figure size 600x400 with 1 Axes>"
            ],
            "image/png": "[encoded data removed]"
          },
          "metadata": {}
        }
      ]
    },
    {
      "cell_type": "code",
      "source": [
        "kmf.plot()"
      ],
      "metadata": {
        "colab": {
          "base_uri": "https://localhost:8080/",
          "height": 395
        },
        "id": "SYAmsuXwjxKW",
        "outputId": "4143e5fc-9859-4d0e-9126-68fae978704c"
      },
      "execution_count": null,
      "outputs": [
        {
          "output_type": "execute_result",
          "data": {
            "text/plain": [
              "<matplotlib.axes._subplots.AxesSubplot at 0x7fef9ae84b50>"
            ]
          },
          "metadata": {},
          "execution_count": 99
        },
        {
          "output_type": "display_data",
          "data": {
            "text/plain": [
              "<Figure size 600x400 with 1 Axes>"
            ],
            "image/png": "[encoded data removed]"
          },
          "metadata": {}
        }
      ]
    },
    {
      "cell_type": "code",
      "source": [
        "kmf.event_table"
      ],
      "metadata": {
        "colab": {
          "base_uri": "https://localhost:8080/",
          "height": 455
        },
        "id": "k11u-AxZj0rM",
        "outputId": "a2dedac6-c444-4014-b3f5-50cd0df338b1"
      },
      "execution_count": null,
      "outputs": [
        {
          "output_type": "execute_result",
          "data": {
            "text/plain": [
              "          removed  observed  censored  entrance  at_risk\n",
              "event_at                                                \n",
              "0.00            0         0         0     14375    14375\n",
              "5566.50         1         1         0         0    14375\n",
              "5571.00         1         1         0         0    14374\n",
              "5571.60         1         0         1         0    14373\n",
              "5581.00         1         1         0         0    14372\n",
              "...           ...       ...       ...       ...      ...\n",
              "6475.81         1         1         0         0        7\n",
              "6476.09         1         1         0         0        6\n",
              "6480.29         1         1         0         0        5\n",
              "6480.75         1         1         0         0        4\n",
              "6483.50         3         3         0         0        3\n",
              "\n",
              "[11275 rows x 5 columns]"
            ],
            "text/html": [
              "\n",
              "  <div id=\"df-2d455821-90cd-400d-b0fa-a09603f5cf7a\">\n",
              "    <div class=\"colab-df-container\">\n",
              "      <div>\n",
              "<style scoped>\n",
              "    .dataframe tbody tr th:only-of-type {\n",
              "        vertical-align: middle;\n",
              "    }\n",
              "\n",
              "    .dataframe tbody tr th {\n",
              "        vertical-align: top;\n",
              "    }\n",
              "\n",
              "    .dataframe thead th {\n",
              "        text-align: right;\n",
              "    }\n",
              "</style>\n",
              "<table border=\"1\" class=\"dataframe\">\n",
              "  <thead>\n",
              "    <tr style=\"text-align: right;\">\n",
              "      <th></th>\n",
              "      <th>removed</th>\n",
              "      <th>observed</th>\n",
              "      <th>censored</th>\n",
              "      <th>entrance</th>\n",
              "      <th>at_risk</th>\n",
              "    </tr>\n",
              "    <tr>\n",
              "      <th>event_at</th>\n",
              "      <th></th>\n",
              "      <th></th>\n",
              "      <th></th>\n",
              "      <th></th>\n",
              "      <th></th>\n",
              "    </tr>\n",
              "  </thead>\n",
              "  <tbody>\n",
              "    <tr>\n",
              "      <th>0.00</th>\n",
              "      <td>0</td>\n",
              "      <td>0</td>\n",
              "      <td>0</td>\n",
              "      <td>14375</td>\n",
              "      <td>14375</td>\n",
              "    </tr>\n",
              "    <tr>\n",
              "      <th>5566.50</th>\n",
              "      <td>1</td>\n",
              "      <td>1</td>\n",
              "      <td>0</td>\n",
              "      <td>0</td>\n",
              "      <td>14375</td>\n",
              "    </tr>\n",
              "    <tr>\n",
              "      <th>5571.00</th>\n",
              "      <td>1</td>\n",
              "      <td>1</td>\n",
              "      <td>0</td>\n",
              "      <td>0</td>\n",
              "      <td>14374</td>\n",
              "    </tr>\n",
              "    <tr>\n",
              "      <th>5571.60</th>\n",
              "      <td>1</td>\n",
              "      <td>0</td>\n",
              "      <td>1</td>\n",
              "      <td>0</td>\n",
              "      <td>14373</td>\n",
              "    </tr>\n",
              "    <tr>\n",
              "      <th>5581.00</th>\n",
              "      <td>1</td>\n",
              "      <td>1</td>\n",
              "      <td>0</td>\n",
              "      <td>0</td>\n",
              "      <td>14372</td>\n",
              "    </tr>\n",
              "    <tr>\n",
              "      <th>...</th>\n",
              "      <td>...</td>\n",
              "      <td>...</td>\n",
              "      <td>...</td>\n",
              "      <td>...</td>\n",
              "      <td>...</td>\n",
              "    </tr>\n",
              "    <tr>\n",
              "      <th>6475.81</th>\n",
              "      <td>1</td>\n",
              "      <td>1</td>\n",
              "      <td>0</td>\n",
              "      <td>0</td>\n",
              "      <td>7</td>\n",
              "    </tr>\n",
              "    <tr>\n",
              "      <th>6476.09</th>\n",
              "      <td>1</td>\n",
              "      <td>1</td>\n",
              "      <td>0</td>\n",
              "      <td>0</td>\n",
              "      <td>6</td>\n",
              "    </tr>\n",
              "    <tr>\n",
              "      <th>6480.29</th>\n",
              "      <td>1</td>\n",
              "      <td>1</td>\n",
              "      <td>0</td>\n",
              "      <td>0</td>\n",
              "      <td>5</td>\n",
              "    </tr>\n",
              "    <tr>\n",
              "      <th>6480.75</th>\n",
              "      <td>1</td>\n",
              "      <td>1</td>\n",
              "      <td>0</td>\n",
              "      <td>0</td>\n",
              "      <td>4</td>\n",
              "    </tr>\n",
              "    <tr>\n",
              "      <th>6483.50</th>\n",
              "      <td>3</td>\n",
              "      <td>3</td>\n",
              "      <td>0</td>\n",
              "      <td>0</td>\n",
              "      <td>3</td>\n",
              "    </tr>\n",
              "  </tbody>\n",
              "</table>\n",
              "<p>11275 rows × 5 columns</p>\n",
              "</div>\n",
              "      <button class=\"colab-df-convert\" onclick=\"convertToInteractive('df-2d455821-90cd-400d-b0fa-a09603f5cf7a')\"\n",
              "              title=\"Convert this dataframe to an interactive table.\"\n",
              "              style=\"display:none;\">\n",
              "        \n",
              "  <svg xmlns=\"http://www.w3.org/2000/svg\" height=\"24px\"viewBox=\"0 0 24 24\"\n",
              "       width=\"24px\">\n",
              "    <path d=\"M0 0h24v24H0V0z\" fill=\"none\"/>\n",
              "    <path d=\"M18.56 5.44l.94 2.06.94-2.06 2.06-.94-2.06-.94-.94-2.06-.94 2.06-2.06.94zm-11 1L8.5 8.5l.94-2.06 2.06-.94-2.06-.94L8.5 2.5l-.94 2.06-2.06.94zm10 10l.94 2.06.94-2.06 2.06-.94-2.06-.94-.94-2.06-.94 2.06-2.06.94z\"/><path d=\"M17.41 7.96l-1.37-1.37c-.4-.4-.92-.59-1.43-.59-.52 0-1.04.2-1.43.59L10.3 9.45l-7.72 7.72c-.78.78-.78 2.05 0 2.83L4 21.41c.39.39.9.59 1.41.59.51 0 1.02-.2 1.41-.59l7.78-7.78 2.81-2.81c.8-.78.8-2.07 0-2.86zM5.41 20L4 18.59l7.72-7.72 1.47 1.35L5.41 20z\"/>\n",
              "  </svg>\n",
              "      </button>\n",
              "      \n",
              "  <style>\n",
              "    .colab-df-container {\n",
              "      display:flex;\n",
              "      flex-wrap:wrap;\n",
              "      gap: 12px;\n",
              "    }\n",
              "\n",
              "    .colab-df-convert {\n",
              "      background-color: #E8F0FE;\n",
              "      border: none;\n",
              "      border-radius: 50%;\n",
              "      cursor: pointer;\n",
              "      display: none;\n",
              "      fill: #1967D2;\n",
              "      height: 32px;\n",
              "      padding: 0 0 0 0;\n",
              "      width: 32px;\n",
              "    }\n",
              "\n",
              "    .colab-df-convert:hover {\n",
              "      background-color: #E2EBFA;\n",
              "      box-shadow: 0px 1px 2px rgba(60, 64, 67, 0.3), 0px 1px 3px 1px rgba(60, 64, 67, 0.15);\n",
              "      fill: #174EA6;\n",
              "    }\n",
              "\n",
              "    [theme=dark] .colab-df-convert {\n",
              "      background-color: #3B4455;\n",
              "      fill: #D2E3FC;\n",
              "    }\n",
              "\n",
              "    [theme=dark] .colab-df-convert:hover {\n",
              "      background-color: #434B5C;\n",
              "      box-shadow: 0px 1px 3px 1px rgba(0, 0, 0, 0.15);\n",
              "      filter: drop-shadow(0px 1px 2px rgba(0, 0, 0, 0.3));\n",
              "      fill: #FFFFFF;\n",
              "    }\n",
              "  </style>\n",
              "\n",
              "      <script>\n",
              "        const buttonEl =\n",
              "          document.querySelector('#df-2d455821-90cd-400d-b0fa-a09603f5cf7a button.colab-df-convert');\n",
              "        buttonEl.style.display =\n",
              "          google.colab.kernel.accessAllowed ? 'block' : 'none';\n",
              "\n",
              "        async function convertToInteractive(key) {\n",
              "          const element = document.querySelector('#df-2d455821-90cd-400d-b0fa-a09603f5cf7a');\n",
              "          const dataTable =\n",
              "            await google.colab.kernel.invokeFunction('convertToInteractive',\n",
              "                                                     [key], {});\n",
              "          if (!dataTable) return;\n",
              "\n",
              "          const docLinkHtml = 'Like what you see? Visit the ' +\n",
              "            '<a target=\"_blank\" href=https://colab.research.google.com/notebooks/data_table.ipynb>data table notebook</a>'\n",
              "            + ' to learn more about interactive tables.';\n",
              "          element.innerHTML = '';\n",
              "          dataTable['output_type'] = 'display_data';\n",
              "          await google.colab.output.renderOutput(dataTable, element);\n",
              "          const docLink = document.createElement('div');\n",
              "          docLink.innerHTML = docLinkHtml;\n",
              "          element.appendChild(docLink);\n",
              "        }\n",
              "      </script>\n",
              "    </div>\n",
              "  </div>\n",
              "  "
            ]
          },
          "metadata": {},
          "execution_count": 100
        }
      ]
    },
    {
      "cell_type": "code",
      "source": [
        "\"\"\"\n",
        "ax = plt.subplot(111)\n",
        "\n",
        "opc = (df[\"Presion\"] == 1)\n",
        "\n",
        "kmf.fit(T[opc], event_observed=E[opc], label=\"Presion\")\n",
        "kmf.plot_survival_function(ax=ax)\n",
        "\n",
        "kmf.fit(T[~opc], event_observed=E[~opc], label=\"Paradas\")\n",
        "kmf.plot_survival_function(ax=ax)\n",
        "\n",
        "plt.title(\"Survival curves by SAG\")\n",
        "\n",
        "\"\"\""
      ],
      "metadata": {
        "colab": {
          "base_uri": "https://localhost:8080/",
          "height": 53
        },
        "id": "ctbDw1rAhGMW",
        "outputId": "4154ac12-8b0b-4349-fc10-cf89991b57d8"
      },
      "execution_count": null,
      "outputs": [
        {
          "output_type": "execute_result",
          "data": {
            "text/plain": [
              "'\\nax = plt.subplot(111)\\n\\nopc = (df[\"Presion\"] == 1)\\n\\nkmf.fit(T[opc], event_observed=E[opc], label=\"Presion\")\\nkmf.plot_survival_function(ax=ax)\\n\\nkmf.fit(T[~opc], event_observed=E[~opc], label=\"Paradas\")\\nkmf.plot_survival_function(ax=ax)\\n\\nplt.title(\"Survival curves by SAG\")\\n\\n'"
            ],
            "application/vnd.google.colaboratory.intrinsic+json": {
              "type": "string"
            }
          },
          "metadata": {},
          "execution_count": 101
        }
      ]
    },
    {
      "cell_type": "markdown",
      "source": [
        ""
      ],
      "metadata": {
        "id": "-rXlhIpvMAZs"
      }
    },
    {
      "cell_type": "code",
      "source": [
        "from lifelines import CoxPHFitter"
      ],
      "metadata": {
        "id": "ZxTCr18Yk4_Z"
      },
      "execution_count": null,
      "outputs": []
    },
    {
      "cell_type": "code",
      "source": [
        "cph = CoxPHFitter()\n",
        "cph.fit(df, duration_col='Tonelaje', event_col='Intensidad de impactos')"
      ],
      "metadata": {
        "colab": {
          "base_uri": "https://localhost:8080/"
        },
        "id": "y3jA0R89K_rr",
        "outputId": "d12149f0-7848-465b-cc78-97969871ec8d"
      },
      "execution_count": null,
      "outputs": [
        {
          "output_type": "execute_result",
          "data": {
            "text/plain": [
              "<lifelines.CoxPHFitter: fitted with 14375 total observations, 0 right-censored observations>"
            ]
          },
          "metadata": {},
          "execution_count": 103
        }
      ]
    },
    {
      "cell_type": "code",
      "source": [
        "cph.print_summary()"
      ],
      "metadata": {
        "colab": {
          "base_uri": "https://localhost:8080/",
          "height": 631
        },
        "id": "QVu9KgLPLYir",
        "outputId": "d75b51ed-f0a8-48a5-e21f-a61487e333d5"
      },
      "execution_count": null,
      "outputs": [
        {
          "output_type": "display_data",
          "data": {
            "text/plain": [
              "<lifelines.CoxPHFitter: fitted with 14375 total observations, 0 right-censored observations>\n",
              "             duration col = 'Tonelaje'\n",
              "                event col = 'Intensidad de impactos'\n",
              "      baseline estimation = breslow\n",
              "   number of observations = 14375\n",
              "number of events observed = 14375\n",
              "   partial log-likelihood = -120296.66\n",
              "         time fit was run = 2022-07-09 00:03:05 UTC\n",
              "\n",
              "---\n",
              "            coef  exp(coef)   se(coef)   coef lower 95%   coef upper 95%  exp(coef) lower 95%  exp(coef) upper 95%\n",
              "covariate                                                                                                         \n",
              "Presion    -0.00       1.00       0.00            -0.00            -0.00                 1.00                 1.00\n",
              "Velocidad  -0.38       0.69       0.04            -0.45            -0.30                 0.64                 0.74\n",
              "%Solidos   -0.21       0.81       0.00            -0.22            -0.20                 0.81                 0.82\n",
              "Potencia    0.00       1.00       0.00             0.00             0.00                 1.00                 1.00\n",
              "F80         0.01       1.01       0.00             0.00             0.01                 1.00                 1.01\n",
              "Brazo       0.07       1.07       0.15            -0.22             0.35                 0.80                 1.42\n",
              "\n",
              "            cmp to      z      p   -log2(p)\n",
              "covariate                                  \n",
              "Presion       0.00 -14.04 <0.005     146.36\n",
              "Velocidad     0.00 -10.07 <0.005      76.88\n",
              "%Solidos      0.00 -45.33 <0.005        inf\n",
              "Potencia      0.00   3.04 <0.005       8.70\n",
              "F80           0.00   7.06 <0.005      39.09\n",
              "Brazo         0.00   0.46   0.65       0.63\n",
              "---\n",
              "Concordance = 0.66\n",
              "Partial AIC = 240605.32\n",
              "log-likelihood ratio test = 5898.91 on 6 df\n",
              "-log2(p) of ll-ratio test = inf"
            ],
            "text/html": [
              "<div>\n",
              "<style scoped>\n",
              "    .dataframe tbody tr th:only-of-type {\n",
              "        vertical-align: middle;\n",
              "    }\n",
              "\n",
              "    .dataframe tbody tr th {\n",
              "        vertical-align: top;\n",
              "    }\n",
              "\n",
              "    .dataframe thead th {\n",
              "        text-align: right;\n",
              "    }\n",
              "</style>\n",
              "<table border=\"1\" class=\"dataframe\">\n",
              "  <tbody>\n",
              "    <tr>\n",
              "      <th>model</th>\n",
              "      <td>lifelines.CoxPHFitter</td>\n",
              "    </tr>\n",
              "    <tr>\n",
              "      <th>duration col</th>\n",
              "      <td>'Tonelaje'</td>\n",
              "    </tr>\n",
              "    <tr>\n",
              "      <th>event col</th>\n",
              "      <td>'Intensidad de impactos'</td>\n",
              "    </tr>\n",
              "    <tr>\n",
              "      <th>baseline estimation</th>\n",
              "      <td>breslow</td>\n",
              "    </tr>\n",
              "    <tr>\n",
              "      <th>number of observations</th>\n",
              "      <td>14375</td>\n",
              "    </tr>\n",
              "    <tr>\n",
              "      <th>number of events observed</th>\n",
              "      <td>14375</td>\n",
              "    </tr>\n",
              "    <tr>\n",
              "      <th>partial log-likelihood</th>\n",
              "      <td>-120296.66</td>\n",
              "    </tr>\n",
              "    <tr>\n",
              "      <th>time fit was run</th>\n",
              "      <td>2022-07-09 00:03:05 UTC</td>\n",
              "    </tr>\n",
              "  </tbody>\n",
              "</table>\n",
              "</div><table border=\"1\" class=\"dataframe\">\n",
              "  <thead>\n",
              "    <tr style=\"text-align: right;\">\n",
              "      <th style=\"min-width: 12px;\"></th>\n",
              "      <th style=\"min-width: 12px;\">coef</th>\n",
              "      <th style=\"min-width: 12px;\">exp(coef)</th>\n",
              "      <th style=\"min-width: 12px;\">se(coef)</th>\n",
              "      <th style=\"min-width: 12px;\">coef lower 95%</th>\n",
              "      <th style=\"min-width: 12px;\">coef upper 95%</th>\n",
              "      <th style=\"min-width: 12px;\">exp(coef) lower 95%</th>\n",
              "      <th style=\"min-width: 12px;\">exp(coef) upper 95%</th>\n",
              "      <th style=\"min-width: 12px;\">cmp to</th>\n",
              "      <th style=\"min-width: 12px;\">z</th>\n",
              "      <th style=\"min-width: 12px;\">p</th>\n",
              "      <th style=\"min-width: 12px;\">-log2(p)</th>\n",
              "    </tr>\n",
              "  </thead>\n",
              "  <tbody>\n",
              "    <tr>\n",
              "      <th>Presion</th>\n",
              "      <td>-0.00</td>\n",
              "      <td>1.00</td>\n",
              "      <td>0.00</td>\n",
              "      <td>-0.00</td>\n",
              "      <td>-0.00</td>\n",
              "      <td>1.00</td>\n",
              "      <td>1.00</td>\n",
              "      <td>0.00</td>\n",
              "      <td>-14.04</td>\n",
              "      <td>&lt;0.005</td>\n",
              "      <td>146.36</td>\n",
              "    </tr>\n",
              "    <tr>\n",
              "      <th>Velocidad</th>\n",
              "      <td>-0.38</td>\n",
              "      <td>0.69</td>\n",
              "      <td>0.04</td>\n",
              "      <td>-0.45</td>\n",
              "      <td>-0.30</td>\n",
              "      <td>0.64</td>\n",
              "      <td>0.74</td>\n",
              "      <td>0.00</td>\n",
              "      <td>-10.07</td>\n",
              "      <td>&lt;0.005</td>\n",
              "      <td>76.88</td>\n",
              "    </tr>\n",
              "    <tr>\n",
              "      <th>%Solidos</th>\n",
              "      <td>-0.21</td>\n",
              "      <td>0.81</td>\n",
              "      <td>0.00</td>\n",
              "      <td>-0.22</td>\n",
              "      <td>-0.20</td>\n",
              "      <td>0.81</td>\n",
              "      <td>0.82</td>\n",
              "      <td>0.00</td>\n",
              "      <td>-45.33</td>\n",
              "      <td>&lt;0.005</td>\n",
              "      <td>inf</td>\n",
              "    </tr>\n",
              "    <tr>\n",
              "      <th>Potencia</th>\n",
              "      <td>0.00</td>\n",
              "      <td>1.00</td>\n",
              "      <td>0.00</td>\n",
              "      <td>0.00</td>\n",
              "      <td>0.00</td>\n",
              "      <td>1.00</td>\n",
              "      <td>1.00</td>\n",
              "      <td>0.00</td>\n",
              "      <td>3.04</td>\n",
              "      <td>&lt;0.005</td>\n",
              "      <td>8.70</td>\n",
              "    </tr>\n",
              "    <tr>\n",
              "      <th>F80</th>\n",
              "      <td>0.01</td>\n",
              "      <td>1.01</td>\n",
              "      <td>0.00</td>\n",
              "      <td>0.00</td>\n",
              "      <td>0.01</td>\n",
              "      <td>1.00</td>\n",
              "      <td>1.01</td>\n",
              "      <td>0.00</td>\n",
              "      <td>7.06</td>\n",
              "      <td>&lt;0.005</td>\n",
              "      <td>39.09</td>\n",
              "    </tr>\n",
              "    <tr>\n",
              "      <th>Brazo</th>\n",
              "      <td>0.07</td>\n",
              "      <td>1.07</td>\n",
              "      <td>0.15</td>\n",
              "      <td>-0.22</td>\n",
              "      <td>0.35</td>\n",
              "      <td>0.80</td>\n",
              "      <td>1.42</td>\n",
              "      <td>0.00</td>\n",
              "      <td>0.46</td>\n",
              "      <td>0.65</td>\n",
              "      <td>0.63</td>\n",
              "    </tr>\n",
              "  </tbody>\n",
              "</table><br><div>\n",
              "<style scoped>\n",
              "    .dataframe tbody tr th:only-of-type {\n",
              "        vertical-align: middle;\n",
              "    }\n",
              "\n",
              "    .dataframe tbody tr th {\n",
              "        vertical-align: top;\n",
              "    }\n",
              "\n",
              "    .dataframe thead th {\n",
              "        text-align: right;\n",
              "    }\n",
              "</style>\n",
              "<table border=\"1\" class=\"dataframe\">\n",
              "  <tbody>\n",
              "    <tr>\n",
              "      <th>Concordance</th>\n",
              "      <td>0.66</td>\n",
              "    </tr>\n",
              "    <tr>\n",
              "      <th>Partial AIC</th>\n",
              "      <td>240605.32</td>\n",
              "    </tr>\n",
              "    <tr>\n",
              "      <th>log-likelihood ratio test</th>\n",
              "      <td>5898.91 on 6 df</td>\n",
              "    </tr>\n",
              "    <tr>\n",
              "      <th>-log2(p) of ll-ratio test</th>\n",
              "      <td>inf</td>\n",
              "    </tr>\n",
              "  </tbody>\n",
              "</table>\n",
              "</div>"
            ],
            "text/latex": "\\begin{tabular}{lrrrrrrrrrrr}\n\\toprule\n{} &  coef &  exp(coef) &  se(coef) &  coef lower 95\\% &  coef upper 95\\% &  exp(coef) lower 95\\% &  exp(coef) upper 95\\% &  cmp to &      z &    p &  -log2(p) \\\\\ncovariate &       &            &           &                 &                 &                      &                      &         &        &      &           \\\\\n\\midrule\nPresion   & -0.00 &       1.00 &      0.00 &           -0.00 &           -0.00 &                 1.00 &                 1.00 &    0.00 & -14.04 & 0.00 &    146.36 \\\\\nVelocidad & -0.38 &       0.69 &      0.04 &           -0.45 &           -0.30 &                 0.64 &                 0.74 &    0.00 & -10.07 & 0.00 &     76.88 \\\\\n\\%Solidos  & -0.21 &       0.81 &      0.00 &           -0.22 &           -0.20 &                 0.81 &                 0.82 &    0.00 & -45.33 & 0.00 &       inf \\\\\nPotencia  &  0.00 &       1.00 &      0.00 &            0.00 &            0.00 &                 1.00 &                 1.00 &    0.00 &   3.04 & 0.00 &      8.70 \\\\\nF80       &  0.01 &       1.01 &      0.00 &            0.00 &            0.01 &                 1.00 &                 1.01 &    0.00 &   7.06 & 0.00 &     39.09 \\\\\nBrazo     &  0.07 &       1.07 &      0.15 &           -0.22 &            0.35 &                 0.80 &                 1.42 &    0.00 &   0.46 & 0.65 &      0.63 \\\\\n\\bottomrule\n\\end{tabular}\n"
          },
          "metadata": {}
        }
      ]
    },
    {
      "cell_type": "code",
      "source": [
        "cph.plot()"
      ],
      "metadata": {
        "colab": {
          "base_uri": "https://localhost:8080/",
          "height": 396
        },
        "id": "U0SInR2cLgcy",
        "outputId": "810b3987-ffbb-4ce5-8cee-f87953046e5f"
      },
      "execution_count": null,
      "outputs": [
        {
          "output_type": "execute_result",
          "data": {
            "text/plain": [
              "<matplotlib.axes._subplots.AxesSubplot at 0x7fefa15ced90>"
            ]
          },
          "metadata": {},
          "execution_count": 105
        },
        {
          "output_type": "display_data",
          "data": {
            "text/plain": [
              "<Figure size 600x400 with 1 Axes>"
            ],
            "image/png": "[encoded data removed]"
          },
          "metadata": {}
        }
      ]
    },
    {
      "cell_type": "code",
      "source": [
        "cph.plot_partial_effects_on_outcome(covariates='F80', values=[0,2,4,6,8,10], cmap='coolwarm',figsize=(20,8))\n",
        "plt.show()"
      ],
      "metadata": {
        "colab": {
          "base_uri": "https://localhost:8080/",
          "height": 620
        },
        "id": "CCwVaEETLjmy",
        "outputId": "4ce2cc8e-8f34-4f1c-8b3f-9d43aad718de"
      },
      "execution_count": null,
      "outputs": [
        {
          "output_type": "display_data",
          "data": {
            "text/plain": [
              "<Figure size 2000x800 with 1 Axes>"
            ],
            "image/png": "[encoded data removed]"
          },
          "metadata": {}
        }
      ]
    },
    {
      "cell_type": "code",
      "source": [
        "\"\"\"\n",
        "plt.figure(figsize=(20,8))\n",
        "surv_func = cph.predict_survival_function(df)\n",
        "#exp_lifetime = cph.predict_expectation(df)\n",
        "plt.plot(surv_func)\n",
        "plt.legend(surv_func.columns)\n",
        "plt.show()\n",
        "\"\"\""
      ],
      "metadata": {
        "colab": {
          "base_uri": "https://localhost:8080/",
          "height": 35
        },
        "id": "KqdrCXZAN-Pk",
        "outputId": "08c1a3b9-08dc-4c64-eca5-dd277d470a28"
      },
      "execution_count": null,
      "outputs": [
        {
          "output_type": "execute_result",
          "data": {
            "text/plain": [
              "'\\nplt.figure(figsize=(20,8))\\nsurv_func = cph.predict_survival_function(df)\\n#exp_lifetime = cph.predict_expectation(df)\\nplt.plot(surv_func)\\nplt.legend(surv_func.columns)\\nplt.show()\\n'"
            ],
            "application/vnd.google.colaboratory.intrinsic+json": {
              "type": "string"
            }
          },
          "metadata": {},
          "execution_count": 110
        }
      ]
    }
  ]
}